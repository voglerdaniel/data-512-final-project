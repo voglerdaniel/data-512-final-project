{
 "cells": [
  {
   "cell_type": "code",
   "execution_count": 19,
   "metadata": {},
   "outputs": [],
   "source": [
    "#\n",
    "#    These are standard python modules\n",
    "#\n",
    "# import json, time, urllib.parse\n",
    "import json\n",
    "import time\n",
    "#\n",
    "#    The 'requests' module is a distribution module for making web requests. If you do not have it already, you'll need to install it\n",
    "import requests\n",
    "from tqdm import tqdm"
   ]
  },
  {
   "cell_type": "code",
   "execution_count": 2,
   "metadata": {},
   "outputs": [],
   "source": [
    "#########\n",
    "#\n",
    "#    CONSTANTS\n",
    "#\n",
    "\n",
    "#\n",
    "#    This is the root of all AQS API URLs\n",
    "#\n",
    "API_REQUEST_URL = 'https://aqs.epa.gov/data/api'\n",
    "\n",
    "#\n",
    "#    These are some of the 'actions' we can ask the API to take or requests that we can make of the API\n",
    "#\n",
    "#    Sign-up request - generally only performed once - unless you lose your key\n",
    "API_ACTION_SIGNUP = '/signup?email={email}'\n",
    "#\n",
    "#    List actions provide information on API parameter values that are required by some other actions/requests\n",
    "API_ACTION_LIST_CLASSES = '/list/classes?email={email}&key={key}'\n",
    "API_ACTION_LIST_PARAMS = '/list/parametersByClass?email={email}&key={key}&pc={pclass}'\n",
    "API_ACTION_LIST_SITES = '/list/sitesByCounty?email={email}&key={key}&state={state}&county={county}'\n",
    "#\n",
    "#    Monitor actions are requests for monitoring stations that meet specific criteria\n",
    "API_ACTION_MONITORS_COUNTY = '/monitors/byCounty?email={email}&key={key}&param={param}&bdate={begin_date}&edate={end_date}&state={state}&county={county}'\n",
    "API_ACTION_MONITORS_BOX = '/monitors/byBox?email={email}&key={key}&param={param}&bdate={begin_date}&edate={end_date}&minlat={minlat}&maxlat={maxlat}&minlon={minlon}&maxlon={maxlon}'\n",
    "#\n",
    "#    Summary actions are requests for summary data. These are for daily summaries\n",
    "API_ACTION_DAILY_SUMMARY_COUNTY = '/dailyData/byCounty?email={email}&key={key}&param={param}&bdate={begin_date}&edate={end_date}&state={state}&county={county}'\n",
    "API_ACTION_DAILY_SUMMARY_BOX = '/dailyData/byBox?email={email}&key={key}&param={param}&bdate={begin_date}&edate={end_date}&minlat={minlat}&maxlat={maxlat}&minlon={minlon}&maxlon={maxlon}'\n",
    "#\n",
    "#    It is always nice to be respectful of a free data resource.\n",
    "#    We're going to observe a 100 requests per minute limit - which is fairly nice\n",
    "# Assuming roughly 2ms latency on the API and network\n",
    "API_LATENCY_ASSUMED = 0.002\n",
    "API_THROTTLE_WAIT = (1.0/100.0)-API_LATENCY_ASSUMED\n",
    "#\n",
    "#\n",
    "#    This is a template that covers most of the parameters for the actions we might take, from the set of actions\n",
    "#    above. In the examples below, most of the time parameters can either be supplied as individual values to a\n",
    "#    function - or they can be set in a copy of the template and passed in with the template.\n",
    "#\n",
    "AQS_REQUEST_TEMPLATE = {\n",
    "    \"email\":      \"\",\n",
    "    \"key\":        \"\",\n",
    "    \"state\":      \"\",     # the two digit state FIPS # as a string\n",
    "    \"county\":     \"\",     # the three digit county FIPS # as a string\n",
    "    \"begin_date\": \"\",     # the start of a time window in YYYYMMDD format\n",
    "    # the end of a time window in YYYYMMDD format, begin_date and end_date must be in the same year\n",
    "    \"end_date\":   \"\",\n",
    "    \"minlat\":    0.0,\n",
    "    \"maxlat\":    0.0,\n",
    "    \"minlon\":    0.0,\n",
    "    \"maxlon\":    0.0,\n",
    "    \"param\":     \"\",     # a list of comma separated 5 digit codes, max 5 codes requested\n",
    "    \"pclass\":    \"\"      # parameter class is only used by the List calls\n",
    "}\n",
    "\n",
    "PUEBLO_FIPS = \"39380\"\n",
    "\n",
    "#   Gaseous AQI pollutants CO, SO2, NO2, and O2\n",
    "AQI_PARAMS_GASEOUS = \"42101,42401,42602,44201\"\n",
    "#\n",
    "#   Particulate AQI pollutants PM10, PM2.5, and Acceptable PM2.5\n",
    "AQI_PARAMS_PARTICULATES = \"81102,88101,88502\"\n",
    "#\n",
    "#"
   ]
  },
  {
   "cell_type": "code",
   "execution_count": 3,
   "metadata": {},
   "outputs": [],
   "source": [
    "#\n",
    "#    This implements the sign-up request. The parameters are standardized so that this function definition matches\n",
    "#    all of the others. However, the easiest way to call this is to simply call this function with your preferred\n",
    "#    email address.\n",
    "#\n",
    "def request_signup(email_address=None,\n",
    "                   endpoint_url=API_REQUEST_URL,\n",
    "                   endpoint_action=API_ACTION_SIGNUP,\n",
    "                   request_template=AQS_REQUEST_TEMPLATE,\n",
    "                   headers=None):\n",
    "\n",
    "    # Make sure we have a string - if you don't have access to this email addres, things might go badly for you\n",
    "    if email_address:\n",
    "        request_template['email'] = email_address\n",
    "\n",
    "    if not request_template['email']:\n",
    "        raise Exception(\n",
    "            \"Must supply an email address to call 'request_signup()'\")\n",
    "\n",
    "    if '@' not in request_template['email']:\n",
    "        raise Exception(f\"Must supply an email address to call 'request_signup()'. The string '{\n",
    "                        request_template['email']}' does not look like an email address.\")\n",
    "\n",
    "    # Compose the signup url - create a request URL by combining the endpoint_url with the parameters for the request\n",
    "    request_url = endpoint_url+endpoint_action.format(**request_template)\n",
    "\n",
    "    # make the request\n",
    "    try:\n",
    "        # Wait first, to make sure we don't exceed a rate limit in the situation where an exception occurs\n",
    "        # during the request processing - throttling is always a good practice with a free data source\n",
    "        if API_THROTTLE_WAIT > 0.0:\n",
    "            time.sleep(API_THROTTLE_WAIT)\n",
    "        response = requests.get(request_url, headers=headers)\n",
    "        json_response = response.json()\n",
    "    except Exception as e:\n",
    "        print(e)\n",
    "        json_response = None\n",
    "    return json_response"
   ]
  },
  {
   "cell_type": "code",
   "execution_count": 4,
   "metadata": {},
   "outputs": [],
   "source": [
    "\n",
    "#    A SIGNUP request is only to be done once, to request a key. A key is sent to that email address and needs to be confirmed with a click through\n",
    "#    This code should probably be commented out after you've made your key request to make sure you don't accidentally make a new sign-up request\n",
    "\n",
    "# print(\"Requesting SIGNUP ...\")\n",
    "# USERNAME = \"dvogler@uw.edu\"\n",
    "# response = request_signup(USERNAME)\n",
    "# print(json.dumps(response,indent=4))"
   ]
  },
  {
   "cell_type": "code",
   "execution_count": 5,
   "metadata": {},
   "outputs": [],
   "source": [
    "from dotenv import load_dotenv\n",
    "import os\n",
    "\n",
    "USERNAME = \"dvogler@uw.edu\"\n",
    "load_dotenv()\n",
    "APIKEY = os.getenv(\"APIKEY\")"
   ]
  },
  {
   "cell_type": "code",
   "execution_count": 6,
   "metadata": {},
   "outputs": [],
   "source": [
    "#\n",
    "#    This implements the daily summary request. Daily summary provides a daily summary value for each sensor being requested\n",
    "#    from the start date to the end date.\n",
    "#\n",
    "#    Like the two other functions, this can be called with a mixture of a defined parameter dictionary, or with function\n",
    "#    parameters. If function parameters are provided, those take precedence over any parameters from the request template.\n",
    "#\n",
    "def request_daily_summary(email_address=None, key=None, param=None,\n",
    "                          begin_date=None, end_date=None, fips=None,\n",
    "                          endpoint_url=API_REQUEST_URL,\n",
    "                          endpoint_action=API_ACTION_DAILY_SUMMARY_COUNTY,\n",
    "                          request_template=AQS_REQUEST_TEMPLATE,\n",
    "                          headers=None):\n",
    "\n",
    "    #  This prioritizes the info from the call parameters - not what's already in the template\n",
    "    if email_address:\n",
    "        request_template['email'] = email_address\n",
    "    if key:\n",
    "        request_template['key'] = key\n",
    "    if param:\n",
    "        request_template['param'] = param\n",
    "    if begin_date:\n",
    "        request_template['begin_date'] = begin_date\n",
    "    if end_date:\n",
    "        request_template['end_date'] = end_date\n",
    "    if fips and len(fips) == 5:\n",
    "        request_template['state'] = fips[:2]\n",
    "        request_template['county'] = fips[2:]\n",
    "\n",
    "    # Make sure there are values that allow us to make a call - these are always required\n",
    "    if not request_template['email']:\n",
    "        raise Exception(\n",
    "            \"Must supply an email address to call 'request_daily_summary()'\")\n",
    "    if not request_template['key']:\n",
    "        raise Exception(\"Must supply a key to call 'request_daily_summary()'\")\n",
    "    if not request_template['param']:\n",
    "        raise Exception(\n",
    "            \"Must supply param values to call 'request_daily_summary()'\")\n",
    "    if not request_template['begin_date']:\n",
    "        raise Exception(\n",
    "            \"Must supply a begin_date to call 'request_daily_summary()'\")\n",
    "    if not request_template['end_date']:\n",
    "        raise Exception(\n",
    "            \"Must supply an end_date to call 'request_daily_summary()'\")\n",
    "    # Note we're not validating FIPS fields because not all of the daily summary actions require the FIPS numbers\n",
    "\n",
    "    # compose the request\n",
    "    request_url = endpoint_url+endpoint_action.format(**request_template)\n",
    "\n",
    "    # make the request\n",
    "    try:\n",
    "        # Wait first, to make sure we don't exceed a rate limit in the situation where an exception occurs\n",
    "        # during the request processing - throttling is always a good practice with a free data source\n",
    "        if API_THROTTLE_WAIT > 0.0:\n",
    "            time.sleep(API_THROTTLE_WAIT)\n",
    "        response = requests.get(request_url, headers=headers)\n",
    "        json_response = response.json()\n",
    "    except Exception as e:\n",
    "        print(e)\n",
    "        json_response = None\n",
    "    return json_response"
   ]
  },
  {
   "cell_type": "code",
   "execution_count": 7,
   "metadata": {},
   "outputs": [],
   "source": [
    "#\n",
    "#   We'll use these two city locations in the examples below.\n",
    "#\n",
    "CITY_LOCATIONS = {\n",
    "    'seaside':       {'city': 'Seaside',\n",
    "                      'county': 'Clatsop',\n",
    "                      'state': 'Oregon',\n",
    "                      'fips': '41007',\n",
    "                      'latlon': [45.9932, -123.9226]},\n",
    "    'bend':          {'city': 'Bend',\n",
    "                      'county': 'Deschutes',\n",
    "                      'state': 'Oregon',\n",
    "                      'fips': '41017',\n",
    "                      'latlon': [44.0582, -121.3153]},\n",
    "    \"loveland\":      {\"city\": \"Loveland\",\n",
    "                      \"county\": \"Larimer\",\n",
    "                      \"state\": [\"Colorado\", \"CO\"],\n",
    "                      \"fips\": \"08069\",\n",
    "                      \"monitoring_start_year\": 0,\n",
    "                      \"area\": 22760.0,\n",
    "                      \"pop.\": 76378,\n",
    "                      \"latlon\": [40.398857, -105.052643]},\n",
    "    \"pueblo\":       {\"city\": \"Pueblo\",\n",
    "                     \"county\": \"Pueblo\",\n",
    "                     \"state\": [\"Colorado\", \"CO\"],\n",
    "                     \"fips\": \"39380\",\n",
    "                     \"latlon\": [38.2706, -104.6101]\n",
    "                     }\n",
    "}"
   ]
  },
  {
   "cell_type": "code",
   "execution_count": 8,
   "metadata": {},
   "outputs": [],
   "source": [
    "#\n",
    "#   These are rough estimates for creating bounding boxes based on a city location\n",
    "#   You can find these rough estimates on the USGS website:\n",
    "#   https://www.usgs.gov/faqs/how-much-distance-does-a-degree-minute-and-second-cover-your-maps\n",
    "#\n",
    "# This is about 25 miles of latitude in decimal degrees\n",
    "LAT_25MILES = 25.0 * (1.0/69.0)\n",
    "# This is about 25 miles of longitude in decimal degrees\n",
    "LON_25MILES = 25.0 * (1.0/54.6)\n",
    "#\n",
    "#   Compute rough estimates for a bounding box around a given place\n",
    "#   The bounding box is scaled in 50 mile increments. That is, the bounding box will have sides that\n",
    "#   are rough multiples of 50 miles, with the center of the box around the indicated place.\n",
    "#   The scale parameter determines the scale (size) of the bounding box\n",
    "#\n",
    "\n",
    "\n",
    "def bounding_latlon(place=None, scale=1.0):\n",
    "    minlat = place['latlon'][0] - float(scale) * LAT_25MILES\n",
    "    maxlat = place['latlon'][0] + float(scale) * LAT_25MILES\n",
    "    minlon = place['latlon'][1] - float(scale) * LON_25MILES\n",
    "    maxlon = place['latlon'][1] + float(scale) * LON_25MILES\n",
    "    return [minlat, maxlat, minlon, maxlon]"
   ]
  },
  {
   "cell_type": "code",
   "execution_count": 9,
   "metadata": {},
   "outputs": [],
   "source": [
    "#\n",
    "#    This implements the monitors request. This requests monitoring stations. This can be done by state, county, or bounding box.\n",
    "#\n",
    "#    Like the two other functions, this can be called with a mixture of a defined parameter dictionary, or with function\n",
    "#    parameters. If function parameters are provided, those take precedence over any parameters from the request template.\n",
    "#\n",
    "def request_monitors(email_address=None, key=None, param=None,\n",
    "                     begin_date=None, end_date=None, fips=None,\n",
    "                     endpoint_url=API_REQUEST_URL,\n",
    "                     endpoint_action=API_ACTION_MONITORS_COUNTY,\n",
    "                     request_template=AQS_REQUEST_TEMPLATE,\n",
    "                     headers=None):\n",
    "\n",
    "    #  This prioritizes the info from the call parameters - not what's already in the template\n",
    "    if email_address:\n",
    "        request_template['email'] = email_address\n",
    "    if key:\n",
    "        request_template['key'] = key\n",
    "    if param:\n",
    "        request_template['param'] = param\n",
    "    if begin_date:\n",
    "        request_template['begin_date'] = begin_date\n",
    "    if end_date:\n",
    "        request_template['end_date'] = end_date\n",
    "    if fips and len(fips) == 5:\n",
    "        request_template['state'] = fips[:2]\n",
    "        request_template['county'] = fips[2:]\n",
    "\n",
    "    # Make sure there are values that allow us to make a call - these are always required\n",
    "    if not request_template['email']:\n",
    "        raise Exception(\n",
    "            \"Must supply an email address to call 'request_monitors()'\")\n",
    "    if not request_template['key']:\n",
    "        raise Exception(\"Must supply a key to call 'request_monitors()'\")\n",
    "    if not request_template['param']:\n",
    "        raise Exception(\n",
    "            \"Must supply param values to call 'request_monitors()'\")\n",
    "    if not request_template['begin_date']:\n",
    "        raise Exception(\n",
    "            \"Must supply a begin_date to call 'request_monitors()'\")\n",
    "    if not request_template['end_date']:\n",
    "        raise Exception(\"Must supply an end_date to call 'request_monitors()'\")\n",
    "    # Note we're not validating FIPS fields because not all of the monitors actions require the FIPS numbers\n",
    "\n",
    "    # compose the request\n",
    "    request_url = endpoint_url+endpoint_action.format(**request_template)\n",
    "\n",
    "    # make the request\n",
    "    try:\n",
    "        # Wait first, to make sure we don't exceed a rate limit in the situation where an exception occurs\n",
    "        # during the request processing - throttling is always a good practice with a free data source\n",
    "        if API_THROTTLE_WAIT > 0.0:\n",
    "            time.sleep(API_THROTTLE_WAIT)\n",
    "        response = requests.get(request_url, headers=headers)\n",
    "        json_response = response.json()\n",
    "    except Exception as e:\n",
    "        print(e)\n",
    "        json_response = None\n",
    "    return json_response"
   ]
  },
  {
   "cell_type": "code",
   "execution_count": 11,
   "metadata": {},
   "outputs": [
    {
     "name": "stdout",
     "output_type": "stream",
     "text": [
      "[\n",
      "    {\n",
      "        \"state_code\": \"08\",\n",
      "        \"county_code\": \"101\",\n",
      "        \"site_number\": \"0001\",\n",
      "        \"parameter_code\": \"81102\",\n",
      "        \"poc\": 2,\n",
      "        \"parameter_name\": \"PM10 Total 0-10um STP\",\n",
      "        \"open_date\": \"1987-10-01\",\n",
      "        \"close_date\": \"1990-11-01\",\n",
      "        \"concurred_exclusions\": null,\n",
      "        \"dominant_source\": null,\n",
      "        \"measurement_scale\": null,\n",
      "        \"measurement_scale_def\": null,\n",
      "        \"monitoring_objective\": \"UNKNOWN\",\n",
      "        \"last_method_code\": null,\n",
      "        \"last_method_description\": \" - \",\n",
      "        \"last_method_begin_date\": null,\n",
      "        \"naaqs_primary_monitor\": null,\n",
      "        \"qa_primary_monitor\": null,\n",
      "        \"monitor_type\": null,\n",
      "        \"networks\": null,\n",
      "        \"monitoring_agency_code\": \"0240\",\n",
      "        \"monitoring_agency\": \"Colorado Department of Public Health And Environment\",\n",
      "        \"si_id\": 1932,\n",
      "        \"latitude\": 38.266392,\n",
      "        \"longitude\": -104.61053,\n",
      "        \"datum\": \"WGS84\",\n",
      "        \"lat_lon_accuracy\": 0.0,\n",
      "        \"elevation\": 1426.0,\n",
      "        \"probe_height\": null,\n",
      "        \"pl_probe_location\": null,\n",
      "        \"local_site_name\": null,\n",
      "        \"address\": \"151 CENTRAL MAIN PUEBLO HEALTH DEPT.\",\n",
      "        \"state_name\": \"Colorado\",\n",
      "        \"county_name\": \"Pueblo\",\n",
      "        \"city_name\": \"Pueblo\",\n",
      "        \"cbsa_code\": \"39380\",\n",
      "        \"cbsa_name\": \"Pueblo, CO\",\n",
      "        \"csa_code\": \"444\",\n",
      "        \"csa_name\": \"Pueblo-Canon City, CO\",\n",
      "        \"tribal_code\": null,\n",
      "        \"tribe_name\": null\n",
      "    },\n",
      "    {\n",
      "        \"state_code\": \"08\",\n",
      "        \"county_code\": \"101\",\n",
      "        \"site_number\": \"0010\",\n",
      "        \"parameter_code\": \"81102\",\n",
      "        \"poc\": 1,\n",
      "        \"parameter_name\": \"PM10 Total 0-10um STP\",\n",
      "        \"open_date\": \"1987-10-01\",\n",
      "        \"close_date\": \"1990-07-01\",\n",
      "        \"concurred_exclusions\": null,\n",
      "        \"dominant_source\": null,\n",
      "        \"measurement_scale\": null,\n",
      "        \"measurement_scale_def\": null,\n",
      "        \"monitoring_objective\": \"UNKNOWN\",\n",
      "        \"last_method_code\": \"064\",\n",
      "        \"last_method_description\": \"HI-VOL-SA/GMW-321-B - GRAVIMETRIC\",\n",
      "        \"last_method_begin_date\": \"1987-10-01\",\n",
      "        \"naaqs_primary_monitor\": null,\n",
      "        \"qa_primary_monitor\": null,\n",
      "        \"monitor_type\": null,\n",
      "        \"networks\": null,\n",
      "        \"monitoring_agency_code\": \"0240\",\n",
      "        \"monitoring_agency\": \"Colorado Department of Public Health And Environment\",\n",
      "        \"si_id\": 1940,\n",
      "        \"latitude\": 38.280835,\n",
      "        \"longitude\": -104.499693,\n",
      "        \"datum\": \"WGS84\",\n",
      "        \"lat_lon_accuracy\": 0.0,\n",
      "        \"elevation\": 1431.0,\n",
      "        \"probe_height\": 5.0,\n",
      "        \"pl_probe_location\": null,\n",
      "        \"local_site_name\": null,\n",
      "        \"address\": \"491 Skyway Street\",\n",
      "        \"state_name\": \"Colorado\",\n",
      "        \"county_name\": \"Pueblo\",\n",
      "        \"city_name\": \"Pueblo\",\n",
      "        \"cbsa_code\": \"39380\",\n",
      "        \"cbsa_name\": \"Pueblo, CO\",\n",
      "        \"csa_code\": \"444\",\n",
      "        \"csa_name\": \"Pueblo-Canon City, CO\",\n",
      "        \"tribal_code\": null,\n",
      "        \"tribe_name\": null\n",
      "    },\n",
      "    {\n",
      "        \"state_code\": \"08\",\n",
      "        \"county_code\": \"101\",\n",
      "        \"site_number\": \"0013\",\n",
      "        \"parameter_code\": \"81102\",\n",
      "        \"poc\": 1,\n",
      "        \"parameter_name\": \"PM10 Total 0-10um STP\",\n",
      "        \"open_date\": \"2002-05-13\",\n",
      "        \"close_date\": \"2003-01-07\",\n",
      "        \"concurred_exclusions\": null,\n",
      "        \"dominant_source\": null,\n",
      "        \"measurement_scale\": null,\n",
      "        \"measurement_scale_def\": null,\n",
      "        \"monitoring_objective\": \"POPULATION EXPOSURE\",\n",
      "        \"last_method_code\": \"064\",\n",
      "        \"last_method_description\": \"HI-VOL-SA/GMW-321-B - GRAVIMETRIC\",\n",
      "        \"last_method_begin_date\": \"2002-05-13\",\n",
      "        \"naaqs_primary_monitor\": null,\n",
      "        \"qa_primary_monitor\": null,\n",
      "        \"monitor_type\": null,\n",
      "        \"networks\": null,\n",
      "        \"monitoring_agency_code\": \"0240\",\n",
      "        \"monitoring_agency\": \"Colorado Department of Public Health And Environment\",\n",
      "        \"si_id\": 91039,\n",
      "        \"latitude\": 38.23889,\n",
      "        \"longitude\": -104.58434,\n",
      "        \"datum\": \"WGS84\",\n",
      "        \"lat_lon_accuracy\": 1.0,\n",
      "        \"elevation\": 1587.0,\n",
      "        \"probe_height\": null,\n",
      "        \"pl_probe_location\": null,\n",
      "        \"local_site_name\": null,\n",
      "        \"address\": \"1411 SANTA ROSA\",\n",
      "        \"state_name\": \"Colorado\",\n",
      "        \"county_name\": \"Pueblo\",\n",
      "        \"city_name\": \"Pueblo\",\n",
      "        \"cbsa_code\": \"39380\",\n",
      "        \"cbsa_name\": \"Pueblo, CO\",\n",
      "        \"csa_code\": \"444\",\n",
      "        \"csa_name\": \"Pueblo-Canon City, CO\",\n",
      "        \"tribal_code\": null,\n",
      "        \"tribe_name\": null\n",
      "    },\n",
      "    {\n",
      "        \"state_code\": \"08\",\n",
      "        \"county_code\": \"101\",\n",
      "        \"site_number\": \"0014\",\n",
      "        \"parameter_code\": \"81102\",\n",
      "        \"poc\": 1,\n",
      "        \"parameter_name\": \"PM10 Total 0-10um STP\",\n",
      "        \"open_date\": \"2002-09-01\",\n",
      "        \"close_date\": \"2003-01-07\",\n",
      "        \"concurred_exclusions\": null,\n",
      "        \"dominant_source\": \"POINT\",\n",
      "        \"measurement_scale\": \"NEIGHBORHOOD\",\n",
      "        \"measurement_scale_def\": \"500 M TO 4KM\",\n",
      "        \"monitoring_objective\": \"POPULATION EXPOSURE\",\n",
      "        \"last_method_code\": \"064\",\n",
      "        \"last_method_description\": \"HI-VOL-SA/GMW-321-B - GRAVIMETRIC\",\n",
      "        \"last_method_begin_date\": \"2002-09-01\",\n",
      "        \"naaqs_primary_monitor\": null,\n",
      "        \"qa_primary_monitor\": null,\n",
      "        \"monitor_type\": null,\n",
      "        \"networks\": null,\n",
      "        \"monitoring_agency_code\": \"0240\",\n",
      "        \"monitoring_agency\": \"Colorado Department of Public Health And Environment\",\n",
      "        \"si_id\": 91145,\n",
      "        \"latitude\": 38.244167,\n",
      "        \"longitude\": -104.606241,\n",
      "        \"datum\": \"WGS84\",\n",
      "        \"lat_lon_accuracy\": 1.0,\n",
      "        \"elevation\": 1448.0,\n",
      "        \"probe_height\": 5.0,\n",
      "        \"pl_probe_location\": \"TOP OF BUILDING\",\n",
      "        \"local_site_name\": null,\n",
      "        \"address\": \"1141 SANTA FE AVE.\",\n",
      "        \"state_name\": \"Colorado\",\n",
      "        \"county_name\": \"Pueblo\",\n",
      "        \"city_name\": \"Pueblo\",\n",
      "        \"cbsa_code\": \"39380\",\n",
      "        \"cbsa_name\": \"Pueblo, CO\",\n",
      "        \"csa_code\": \"444\",\n",
      "        \"csa_name\": \"Pueblo-Canon City, CO\",\n",
      "        \"tribal_code\": null,\n",
      "        \"tribe_name\": null\n",
      "    },\n",
      "    {\n",
      "        \"state_code\": \"08\",\n",
      "        \"county_code\": \"101\",\n",
      "        \"site_number\": \"0008\",\n",
      "        \"parameter_code\": \"81102\",\n",
      "        \"poc\": 1,\n",
      "        \"parameter_name\": \"PM10 Total 0-10um STP\",\n",
      "        \"open_date\": \"1987-10-01\",\n",
      "        \"close_date\": \"1990-07-01\",\n",
      "        \"concurred_exclusions\": null,\n",
      "        \"dominant_source\": null,\n",
      "        \"measurement_scale\": null,\n",
      "        \"measurement_scale_def\": null,\n",
      "        \"monitoring_objective\": \"UNKNOWN\",\n",
      "        \"last_method_code\": \"064\",\n",
      "        \"last_method_description\": \"HI-VOL-SA/GMW-321-B - GRAVIMETRIC\",\n",
      "        \"last_method_begin_date\": \"1987-10-01\",\n",
      "        \"naaqs_primary_monitor\": null,\n",
      "        \"qa_primary_monitor\": null,\n",
      "        \"monitor_type\": null,\n",
      "        \"networks\": null,\n",
      "        \"monitoring_agency_code\": \"0240\",\n",
      "        \"monitoring_agency\": \"Colorado Department of Public Health And Environment\",\n",
      "        \"si_id\": 1939,\n",
      "        \"latitude\": 38.30278,\n",
      "        \"longitude\": -104.62803,\n",
      "        \"datum\": \"WGS84\",\n",
      "        \"lat_lon_accuracy\": 0.0,\n",
      "        \"elevation\": 1431.0,\n",
      "        \"probe_height\": null,\n",
      "        \"pl_probe_location\": null,\n",
      "        \"local_site_name\": \"PUMPING STATION\",\n",
      "        \"address\": \"1598 Watts Place\",\n",
      "        \"state_name\": \"Colorado\",\n",
      "        \"county_name\": \"Pueblo\",\n",
      "        \"city_name\": \"Pueblo\",\n",
      "        \"cbsa_code\": \"39380\",\n",
      "        \"cbsa_name\": \"Pueblo, CO\",\n",
      "        \"csa_code\": \"444\",\n",
      "        \"csa_name\": \"Pueblo-Canon City, CO\",\n",
      "        \"tribal_code\": null,\n",
      "        \"tribe_name\": null\n",
      "    },\n",
      "    {\n",
      "        \"state_code\": \"08\",\n",
      "        \"county_code\": \"101\",\n",
      "        \"site_number\": \"0010\",\n",
      "        \"parameter_code\": \"81102\",\n",
      "        \"poc\": 2,\n",
      "        \"parameter_name\": \"PM10 Total 0-10um STP\",\n",
      "        \"open_date\": \"1987-10-01\",\n",
      "        \"close_date\": \"1990-07-01\",\n",
      "        \"concurred_exclusions\": null,\n",
      "        \"dominant_source\": null,\n",
      "        \"measurement_scale\": null,\n",
      "        \"measurement_scale_def\": null,\n",
      "        \"monitoring_objective\": \"UNKNOWN\",\n",
      "        \"last_method_code\": null,\n",
      "        \"last_method_description\": \" - \",\n",
      "        \"last_method_begin_date\": null,\n",
      "        \"naaqs_primary_monitor\": null,\n",
      "        \"qa_primary_monitor\": null,\n",
      "        \"monitor_type\": null,\n",
      "        \"networks\": null,\n",
      "        \"monitoring_agency_code\": \"0240\",\n",
      "        \"monitoring_agency\": \"Colorado Department of Public Health And Environment\",\n",
      "        \"si_id\": 1940,\n",
      "        \"latitude\": 38.280835,\n",
      "        \"longitude\": -104.499693,\n",
      "        \"datum\": \"WGS84\",\n",
      "        \"lat_lon_accuracy\": 0.0,\n",
      "        \"elevation\": 1431.0,\n",
      "        \"probe_height\": null,\n",
      "        \"pl_probe_location\": null,\n",
      "        \"local_site_name\": null,\n",
      "        \"address\": \"491 Skyway Street\",\n",
      "        \"state_name\": \"Colorado\",\n",
      "        \"county_name\": \"Pueblo\",\n",
      "        \"city_name\": \"Pueblo\",\n",
      "        \"cbsa_code\": \"39380\",\n",
      "        \"cbsa_name\": \"Pueblo, CO\",\n",
      "        \"csa_code\": \"444\",\n",
      "        \"csa_name\": \"Pueblo-Canon City, CO\",\n",
      "        \"tribal_code\": null,\n",
      "        \"tribe_name\": null\n",
      "    },\n",
      "    {\n",
      "        \"state_code\": \"08\",\n",
      "        \"county_code\": \"101\",\n",
      "        \"site_number\": \"0015\",\n",
      "        \"parameter_code\": \"88101\",\n",
      "        \"poc\": 1,\n",
      "        \"parameter_name\": \"PM2.5 - Local Conditions\",\n",
      "        \"open_date\": \"2009-06-24\",\n",
      "        \"close_date\": \"2023-09-15\",\n",
      "        \"concurred_exclusions\": null,\n",
      "        \"dominant_source\": \"AREA\",\n",
      "        \"measurement_scale\": \"NEIGHBORHOOD\",\n",
      "        \"measurement_scale_def\": \"500 M TO 4KM\",\n",
      "        \"monitoring_objective\": \"POPULATION EXPOSURE\",\n",
      "        \"last_method_code\": \"145\",\n",
      "        \"last_method_description\": \"R & P Model 2025 PM-2.5 Sequential Air Sampler w/VSCC - Gravimetric\",\n",
      "        \"last_method_begin_date\": \"2009-06-24\",\n",
      "        \"naaqs_primary_monitor\": null,\n",
      "        \"qa_primary_monitor\": null,\n",
      "        \"monitor_type\": \"SLAMS\",\n",
      "        \"networks\": null,\n",
      "        \"monitoring_agency_code\": \"0240\",\n",
      "        \"monitoring_agency\": \"Colorado Department of Public Health And Environment\",\n",
      "        \"si_id\": 95107,\n",
      "        \"latitude\": 38.276099,\n",
      "        \"longitude\": -104.597613,\n",
      "        \"datum\": \"WGS84\",\n",
      "        \"lat_lon_accuracy\": 5.0,\n",
      "        \"elevation\": 1433.0,\n",
      "        \"probe_height\": 5.0,\n",
      "        \"pl_probe_location\": \"TOP OF BUILDING\",\n",
      "        \"local_site_name\": \"Pueblo - Fountain School\",\n",
      "        \"address\": \"925 N. GLENDALE AVE.\",\n",
      "        \"state_name\": \"Colorado\",\n",
      "        \"county_name\": \"Pueblo\",\n",
      "        \"city_name\": \"Pueblo\",\n",
      "        \"cbsa_code\": \"39380\",\n",
      "        \"cbsa_name\": \"Pueblo, CO\",\n",
      "        \"csa_code\": \"444\",\n",
      "        \"csa_name\": \"Pueblo-Canon City, CO\",\n",
      "        \"tribal_code\": null,\n",
      "        \"tribe_name\": null\n",
      "    },\n",
      "    {\n",
      "        \"state_code\": \"08\",\n",
      "        \"county_code\": \"101\",\n",
      "        \"site_number\": \"0012\",\n",
      "        \"parameter_code\": \"81102\",\n",
      "        \"poc\": 1,\n",
      "        \"parameter_name\": \"PM10 Total 0-10um STP\",\n",
      "        \"open_date\": \"1998-07-10\",\n",
      "        \"close_date\": \"2009-06-27\",\n",
      "        \"concurred_exclusions\": null,\n",
      "        \"dominant_source\": null,\n",
      "        \"measurement_scale\": \"NEIGHBORHOOD\",\n",
      "        \"measurement_scale_def\": \"500 M TO 4KM\",\n",
      "        \"monitoring_objective\": \"POPULATION EXPOSURE\",\n",
      "        \"last_method_code\": \"063\",\n",
      "        \"last_method_description\": \"HI-VOL SA/GMW-1200 - GRAVIMETRIC\",\n",
      "        \"last_method_begin_date\": \"2009-06-27\",\n",
      "        \"naaqs_primary_monitor\": null,\n",
      "        \"qa_primary_monitor\": null,\n",
      "        \"monitor_type\": null,\n",
      "        \"networks\": null,\n",
      "        \"monitoring_agency_code\": \"0240\",\n",
      "        \"monitoring_agency\": \"Colorado Department of Public Health And Environment\",\n",
      "        \"si_id\": 1942,\n",
      "        \"latitude\": 38.263058,\n",
      "        \"longitude\": -104.612133,\n",
      "        \"datum\": \"WGS84\",\n",
      "        \"lat_lon_accuracy\": 1.0,\n",
      "        \"elevation\": 1421.0,\n",
      "        \"probe_height\": 5.0,\n",
      "        \"pl_probe_location\": \"TOP OF BUILDING\",\n",
      "        \"local_site_name\": \"Pueblo Publics Works\",\n",
      "        \"address\": \"211 D ST.\",\n",
      "        \"state_name\": \"Colorado\",\n",
      "        \"county_name\": \"Pueblo\",\n",
      "        \"city_name\": \"Pueblo\",\n",
      "        \"cbsa_code\": \"39380\",\n",
      "        \"cbsa_name\": \"Pueblo, CO\",\n",
      "        \"csa_code\": \"444\",\n",
      "        \"csa_name\": \"Pueblo-Canon City, CO\",\n",
      "        \"tribal_code\": null,\n",
      "        \"tribe_name\": null\n",
      "    },\n",
      "    {\n",
      "        \"state_code\": \"08\",\n",
      "        \"county_code\": \"101\",\n",
      "        \"site_number\": \"0012\",\n",
      "        \"parameter_code\": \"88101\",\n",
      "        \"poc\": 1,\n",
      "        \"parameter_name\": \"PM2.5 - Local Conditions\",\n",
      "        \"open_date\": \"1999-02-20\",\n",
      "        \"close_date\": \"2009-06-27\",\n",
      "        \"concurred_exclusions\": null,\n",
      "        \"dominant_source\": \"AREA\",\n",
      "        \"measurement_scale\": \"NEIGHBORHOOD\",\n",
      "        \"measurement_scale_def\": \"500 M TO 4KM\",\n",
      "        \"monitoring_objective\": \"POPULATION EXPOSURE\",\n",
      "        \"last_method_code\": \"145\",\n",
      "        \"last_method_description\": \"R & P Model 2025 PM-2.5 Sequential Air Sampler w/VSCC - Gravimetric\",\n",
      "        \"last_method_begin_date\": \"2004-10-27\",\n",
      "        \"naaqs_primary_monitor\": \"Y\",\n",
      "        \"qa_primary_monitor\": null,\n",
      "        \"monitor_type\": null,\n",
      "        \"networks\": null,\n",
      "        \"monitoring_agency_code\": \"0240\",\n",
      "        \"monitoring_agency\": \"Colorado Department of Public Health And Environment\",\n",
      "        \"si_id\": 1942,\n",
      "        \"latitude\": 38.263058,\n",
      "        \"longitude\": -104.612133,\n",
      "        \"datum\": \"WGS84\",\n",
      "        \"lat_lon_accuracy\": 1.0,\n",
      "        \"elevation\": 1421.0,\n",
      "        \"probe_height\": 4.0,\n",
      "        \"pl_probe_location\": \"TOP OF BUILDING\",\n",
      "        \"local_site_name\": \"Pueblo Publics Works\",\n",
      "        \"address\": \"211 D ST.\",\n",
      "        \"state_name\": \"Colorado\",\n",
      "        \"county_name\": \"Pueblo\",\n",
      "        \"city_name\": \"Pueblo\",\n",
      "        \"cbsa_code\": \"39380\",\n",
      "        \"cbsa_name\": \"Pueblo, CO\",\n",
      "        \"csa_code\": \"444\",\n",
      "        \"csa_name\": \"Pueblo-Canon City, CO\",\n",
      "        \"tribal_code\": null,\n",
      "        \"tribe_name\": null\n",
      "    },\n",
      "    {\n",
      "        \"state_code\": \"08\",\n",
      "        \"county_code\": \"101\",\n",
      "        \"site_number\": \"0015\",\n",
      "        \"parameter_code\": \"81102\",\n",
      "        \"poc\": 1,\n",
      "        \"parameter_name\": \"PM10 Total 0-10um STP\",\n",
      "        \"open_date\": \"2009-06-24\",\n",
      "        \"close_date\": \"2023-09-15\",\n",
      "        \"concurred_exclusions\": null,\n",
      "        \"dominant_source\": \"AREA\",\n",
      "        \"measurement_scale\": \"NEIGHBORHOOD\",\n",
      "        \"measurement_scale_def\": \"500 M TO 4KM\",\n",
      "        \"monitoring_objective\": \"POPULATION EXPOSURE\",\n",
      "        \"last_method_code\": \"063\",\n",
      "        \"last_method_description\": \"HI-VOL SA/GMW-1200 - GRAVIMETRIC\",\n",
      "        \"last_method_begin_date\": \"2011-07-05\",\n",
      "        \"naaqs_primary_monitor\": null,\n",
      "        \"qa_primary_monitor\": null,\n",
      "        \"monitor_type\": null,\n",
      "        \"networks\": null,\n",
      "        \"monitoring_agency_code\": \"0240\",\n",
      "        \"monitoring_agency\": \"Colorado Department of Public Health And Environment\",\n",
      "        \"si_id\": 95107,\n",
      "        \"latitude\": 38.276099,\n",
      "        \"longitude\": -104.597613,\n",
      "        \"datum\": \"WGS84\",\n",
      "        \"lat_lon_accuracy\": 5.0,\n",
      "        \"elevation\": 1433.0,\n",
      "        \"probe_height\": 5.0,\n",
      "        \"pl_probe_location\": \"TOP OF BUILDING\",\n",
      "        \"local_site_name\": \"Pueblo - Fountain School\",\n",
      "        \"address\": \"925 N. GLENDALE AVE.\",\n",
      "        \"state_name\": \"Colorado\",\n",
      "        \"county_name\": \"Pueblo\",\n",
      "        \"city_name\": \"Pueblo\",\n",
      "        \"cbsa_code\": \"39380\",\n",
      "        \"cbsa_name\": \"Pueblo, CO\",\n",
      "        \"csa_code\": \"444\",\n",
      "        \"csa_name\": \"Pueblo-Canon City, CO\",\n",
      "        \"tribal_code\": null,\n",
      "        \"tribe_name\": null\n",
      "    },\n",
      "    {\n",
      "        \"state_code\": \"08\",\n",
      "        \"county_code\": \"041\",\n",
      "        \"site_number\": \"6003\",\n",
      "        \"parameter_code\": \"81102\",\n",
      "        \"poc\": 1,\n",
      "        \"parameter_name\": \"PM10 Total 0-10um STP\",\n",
      "        \"open_date\": \"1988-01-01\",\n",
      "        \"close_date\": \"1991-04-01\",\n",
      "        \"concurred_exclusions\": null,\n",
      "        \"dominant_source\": null,\n",
      "        \"measurement_scale\": null,\n",
      "        \"measurement_scale_def\": null,\n",
      "        \"monitoring_objective\": \"UNKNOWN\",\n",
      "        \"last_method_code\": \"063\",\n",
      "        \"last_method_description\": \"HI-VOL SA/GMW-1200 - GRAVIMETRIC\",\n",
      "        \"last_method_begin_date\": \"1988-01-01\",\n",
      "        \"naaqs_primary_monitor\": null,\n",
      "        \"qa_primary_monitor\": null,\n",
      "        \"monitor_type\": null,\n",
      "        \"networks\": null,\n",
      "        \"monitoring_agency_code\": \"0193\",\n",
      "        \"monitoring_agency\": \"City of Colorado Springs\",\n",
      "        \"si_id\": 1788,\n",
      "        \"latitude\": 38.597498,\n",
      "        \"longitude\": -104.674972,\n",
      "        \"datum\": \"WGS84\",\n",
      "        \"lat_lon_accuracy\": 910.88,\n",
      "        \"elevation\": 1635.0,\n",
      "        \"probe_height\": 4.0,\n",
      "        \"pl_probe_location\": \"TOP OF BUILDING\",\n",
      "        \"local_site_name\": \"SITE IS IN A FIELD SOUTHEAST OF THE NIXON POWER PLANT\",\n",
      "        \"address\": \"EXIT 123 OFF OF I-25\",\n",
      "        \"state_name\": \"Colorado\",\n",
      "        \"county_name\": \"El Paso\",\n",
      "        \"city_name\": \"Colorado Springs\",\n",
      "        \"cbsa_code\": \"17820\",\n",
      "        \"cbsa_name\": \"Colorado Springs, CO\",\n",
      "        \"csa_code\": null,\n",
      "        \"csa_name\": null,\n",
      "        \"tribal_code\": null,\n",
      "        \"tribe_name\": null\n",
      "    },\n",
      "    {\n",
      "        \"state_code\": \"08\",\n",
      "        \"county_code\": \"101\",\n",
      "        \"site_number\": \"0001\",\n",
      "        \"parameter_code\": \"81102\",\n",
      "        \"poc\": 1,\n",
      "        \"parameter_name\": \"PM10 Total 0-10um STP\",\n",
      "        \"open_date\": \"1987-10-01\",\n",
      "        \"close_date\": \"1998-07-31\",\n",
      "        \"concurred_exclusions\": null,\n",
      "        \"dominant_source\": null,\n",
      "        \"measurement_scale\": \"MIDDLE SCALE\",\n",
      "        \"measurement_scale_def\": \"100 M TO 500 M\",\n",
      "        \"monitoring_objective\": \"POPULATION EXPOSURE\",\n",
      "        \"last_method_code\": \"064\",\n",
      "        \"last_method_description\": \"HI-VOL-SA/GMW-321-B - GRAVIMETRIC\",\n",
      "        \"last_method_begin_date\": \"1987-10-01\",\n",
      "        \"naaqs_primary_monitor\": null,\n",
      "        \"qa_primary_monitor\": null,\n",
      "        \"monitor_type\": null,\n",
      "        \"networks\": null,\n",
      "        \"monitoring_agency_code\": \"0240\",\n",
      "        \"monitoring_agency\": \"Colorado Department of Public Health And Environment\",\n",
      "        \"si_id\": 1932,\n",
      "        \"latitude\": 38.266392,\n",
      "        \"longitude\": -104.61053,\n",
      "        \"datum\": \"WGS84\",\n",
      "        \"lat_lon_accuracy\": 0.0,\n",
      "        \"elevation\": 1426.0,\n",
      "        \"probe_height\": null,\n",
      "        \"pl_probe_location\": null,\n",
      "        \"local_site_name\": null,\n",
      "        \"address\": \"151 CENTRAL MAIN PUEBLO HEALTH DEPT.\",\n",
      "        \"state_name\": \"Colorado\",\n",
      "        \"county_name\": \"Pueblo\",\n",
      "        \"city_name\": \"Pueblo\",\n",
      "        \"cbsa_code\": \"39380\",\n",
      "        \"cbsa_name\": \"Pueblo, CO\",\n",
      "        \"csa_code\": \"444\",\n",
      "        \"csa_name\": \"Pueblo-Canon City, CO\",\n",
      "        \"tribal_code\": null,\n",
      "        \"tribe_name\": null\n",
      "    },\n",
      "    {\n",
      "        \"state_code\": \"08\",\n",
      "        \"county_code\": \"101\",\n",
      "        \"site_number\": \"0008\",\n",
      "        \"parameter_code\": \"81102\",\n",
      "        \"poc\": 2,\n",
      "        \"parameter_name\": \"PM10 Total 0-10um STP\",\n",
      "        \"open_date\": \"1987-10-01\",\n",
      "        \"close_date\": \"1990-07-01\",\n",
      "        \"concurred_exclusions\": null,\n",
      "        \"dominant_source\": null,\n",
      "        \"measurement_scale\": null,\n",
      "        \"measurement_scale_def\": null,\n",
      "        \"monitoring_objective\": \"UNKNOWN\",\n",
      "        \"last_method_code\": null,\n",
      "        \"last_method_description\": \" - \",\n",
      "        \"last_method_begin_date\": null,\n",
      "        \"naaqs_primary_monitor\": null,\n",
      "        \"qa_primary_monitor\": null,\n",
      "        \"monitor_type\": null,\n",
      "        \"networks\": null,\n",
      "        \"monitoring_agency_code\": \"0240\",\n",
      "        \"monitoring_agency\": \"Colorado Department of Public Health And Environment\",\n",
      "        \"si_id\": 1939,\n",
      "        \"latitude\": 38.30278,\n",
      "        \"longitude\": -104.62803,\n",
      "        \"datum\": \"WGS84\",\n",
      "        \"lat_lon_accuracy\": 0.0,\n",
      "        \"elevation\": 1431.0,\n",
      "        \"probe_height\": null,\n",
      "        \"pl_probe_location\": null,\n",
      "        \"local_site_name\": \"PUMPING STATION\",\n",
      "        \"address\": \"1598 Watts Place\",\n",
      "        \"state_name\": \"Colorado\",\n",
      "        \"county_name\": \"Pueblo\",\n",
      "        \"city_name\": \"Pueblo\",\n",
      "        \"cbsa_code\": \"39380\",\n",
      "        \"cbsa_name\": \"Pueblo, CO\",\n",
      "        \"csa_code\": \"444\",\n",
      "        \"csa_name\": \"Pueblo-Canon City, CO\",\n",
      "        \"tribal_code\": null,\n",
      "        \"tribe_name\": null\n",
      "    }\n",
      "]\n"
     ]
    }
   ],
   "source": [
    "#\n",
    "#    Create a copy of the AQS_REQUEST_TEMPLATE\n",
    "#\n",
    "request_data = AQS_REQUEST_TEMPLATE.copy()\n",
    "request_data['email'] = USERNAME\n",
    "request_data['key'] = APIKEY\n",
    "# same particulate request as the one abover\n",
    "request_data['param'] = AQI_PARAMS_PARTICULATES\n",
    "#\n",
    "#   Not going to use these - comment them out\n",
    "# request_data['state'] = CITY_LOCATIONS['bend']['fips'][:2]\n",
    "# request_data['county'] = CITY_LOCATIONS['bend']['fips'][2:]\n",
    "#\n",
    "#   Now, we need bounding box parameters\n",
    "\n",
    "#   50 mile box\n",
    "bbox = bounding_latlon(CITY_LOCATIONS['pueblo'], scale=1.0)\n",
    "#   100 mile box\n",
    "# bbox = bounding_latlon(CITY_LOCATIONS['bend'],scale=2.0)\n",
    "#   150 mile box\n",
    "# bbox = bounding_latlon(CITY_LOCATIONS['bend'],scale=3.0)\n",
    "#   200 mile box\n",
    "# bbox = bounding_latlon(CITY_LOCATIONS['bend'],scale=4.0)\n",
    "\n",
    "# the bbox response comes back as a list - [minlat,maxlat,minlon,maxlon]\n",
    "\n",
    "#   put our bounding box into the request_data\n",
    "request_data['minlat'] = bbox[0]\n",
    "request_data['maxlat'] = bbox[1]\n",
    "request_data['minlon'] = bbox[2]\n",
    "request_data['maxlon'] = bbox[3]\n",
    "\n",
    "#\n",
    "#   we need to change the action for the API from the default to the bounding box - same recent date for now\n",
    "response = request_monitors(request_template=request_data, begin_date=\"19610101\", end_date=\"20211231\",\n",
    "                            endpoint_action=API_ACTION_MONITORS_BOX)\n",
    "#\n",
    "#\n",
    "#\n",
    "if response[\"Header\"][0]['status'] == \"Success\":\n",
    "    print(json.dumps(response['Data'], indent=4))\n",
    "else:\n",
    "    print(json.dumps(response, indent=4))"
   ]
  },
  {
   "cell_type": "code",
   "execution_count": 12,
   "metadata": {},
   "outputs": [],
   "source": [
    "shohhh"
   ]
  },
  {
   "cell_type": "code",
   "execution_count": 23,
   "metadata": {},
   "outputs": [
    {
     "name": "stderr",
     "output_type": "stream",
     "text": [
      "  0%|          | 0/63 [00:00<?, ?it/s]"
     ]
    },
    {
     "name": "stdout",
     "output_type": "stream",
     "text": [
      "Attempting to pull data for 2023\n",
      "Response for the gaseous pollutants ...\n",
      "Succeeded with gaseous data pull for year 2023\n"
     ]
    },
    {
     "name": "stderr",
     "output_type": "stream",
     "text": [
      "  2%|▏         | 1/63 [02:32<2:37:24, 152.34s/it]"
     ]
    },
    {
     "name": "stdout",
     "output_type": "stream",
     "text": [
      "Response for the particulate pollutants ...\n",
      "Succeeded with particulate data pull for year 2023\n",
      "Attempting to pull data for 2022\n",
      "Response for the gaseous pollutants ...\n",
      "Succeeded with gaseous data pull for year 2022\n"
     ]
    },
    {
     "name": "stderr",
     "output_type": "stream",
     "text": [
      "  3%|▎         | 2/63 [05:04<2:34:38, 152.10s/it]"
     ]
    },
    {
     "name": "stdout",
     "output_type": "stream",
     "text": [
      "Response for the particulate pollutants ...\n",
      "Succeeded with particulate data pull for year 2022\n",
      "Attempting to pull data for 2021\n",
      "Response for the gaseous pollutants ...\n",
      "Succeeded with gaseous data pull for year 2021\n"
     ]
    },
    {
     "name": "stderr",
     "output_type": "stream",
     "text": [
      "  5%|▍         | 3/63 [07:35<2:31:51, 151.85s/it]"
     ]
    },
    {
     "name": "stdout",
     "output_type": "stream",
     "text": [
      "Response for the particulate pollutants ...\n",
      "Succeeded with particulate data pull for year 2021\n",
      "Attempting to pull data for 2020\n",
      "Response for the gaseous pollutants ...\n",
      "Succeeded with gaseous data pull for year 2020\n"
     ]
    },
    {
     "name": "stderr",
     "output_type": "stream",
     "text": [
      "  6%|▋         | 4/63 [10:07<2:29:10, 151.70s/it]"
     ]
    },
    {
     "name": "stdout",
     "output_type": "stream",
     "text": [
      "Response for the particulate pollutants ...\n",
      "Succeeded with particulate data pull for year 2020\n",
      "Attempting to pull data for 2019\n",
      "Response for the gaseous pollutants ...\n",
      "Succeeded with gaseous data pull for year 2019\n"
     ]
    },
    {
     "name": "stderr",
     "output_type": "stream",
     "text": [
      "  8%|▊         | 5/63 [12:39<2:26:43, 151.78s/it]"
     ]
    },
    {
     "name": "stdout",
     "output_type": "stream",
     "text": [
      "Response for the particulate pollutants ...\n",
      "Succeeded with particulate data pull for year 2019\n",
      "Attempting to pull data for 2018\n",
      "Response for the gaseous pollutants ...\n",
      "Succeeded with gaseous data pull for year 2018\n"
     ]
    },
    {
     "name": "stderr",
     "output_type": "stream",
     "text": [
      " 10%|▉         | 6/63 [15:10<2:24:09, 151.74s/it]"
     ]
    },
    {
     "name": "stdout",
     "output_type": "stream",
     "text": [
      "Response for the particulate pollutants ...\n",
      "Succeeded with particulate data pull for year 2018\n",
      "Attempting to pull data for 2017\n",
      "Response for the gaseous pollutants ...\n",
      "Succeeded with gaseous data pull for year 2017\n"
     ]
    },
    {
     "name": "stderr",
     "output_type": "stream",
     "text": [
      " 11%|█         | 7/63 [17:43<2:21:48, 151.94s/it]"
     ]
    },
    {
     "name": "stdout",
     "output_type": "stream",
     "text": [
      "Response for the particulate pollutants ...\n",
      "Succeeded with particulate data pull for year 2017\n",
      "Attempting to pull data for 2016\n",
      "Response for the gaseous pollutants ...\n",
      "Succeeded with gaseous data pull for year 2016\n"
     ]
    },
    {
     "name": "stderr",
     "output_type": "stream",
     "text": [
      " 13%|█▎        | 8/63 [1:21:50<20:17:42, 1328.40s/it]"
     ]
    },
    {
     "name": "stdout",
     "output_type": "stream",
     "text": [
      "Response for the particulate pollutants ...\n",
      "Succeeded with particulate data pull for year 2016\n",
      "Attempting to pull data for 2015\n",
      "Response for the gaseous pollutants ...\n",
      "Succeeded with gaseous data pull for year 2015\n"
     ]
    },
    {
     "name": "stderr",
     "output_type": "stream",
     "text": [
      " 14%|█▍        | 9/63 [2:15:47<28:52:35, 1925.10s/it]"
     ]
    },
    {
     "name": "stdout",
     "output_type": "stream",
     "text": [
      "Response for the particulate pollutants ...\n",
      "Succeeded with particulate data pull for year 2015\n",
      "Attempting to pull data for 2014\n",
      "Response for the gaseous pollutants ...\n",
      "Succeeded with gaseous data pull for year 2014\n"
     ]
    },
    {
     "name": "stderr",
     "output_type": "stream",
     "text": [
      " 16%|█▌        | 10/63 [4:13:10<51:36:03, 3504.96s/it]"
     ]
    },
    {
     "name": "stdout",
     "output_type": "stream",
     "text": [
      "Response for the particulate pollutants ...\n",
      "Succeeded with particulate data pull for year 2014\n",
      "Attempting to pull data for 2013\n",
      "Response for the gaseous pollutants ...\n",
      "Succeeded with gaseous data pull for year 2013\n"
     ]
    },
    {
     "name": "stderr",
     "output_type": "stream",
     "text": [
      " 17%|█▋        | 11/63 [5:50:09<60:51:33, 4213.35s/it]"
     ]
    },
    {
     "name": "stdout",
     "output_type": "stream",
     "text": [
      "Response for the particulate pollutants ...\n",
      "Succeeded with particulate data pull for year 2013\n",
      "Attempting to pull data for 2012\n",
      "Response for the gaseous pollutants ...\n",
      "Succeeded with gaseous data pull for year 2012\n"
     ]
    },
    {
     "name": "stderr",
     "output_type": "stream",
     "text": [
      " 19%|█▉        | 12/63 [6:40:40<54:35:32, 3853.58s/it]"
     ]
    },
    {
     "name": "stdout",
     "output_type": "stream",
     "text": [
      "Response for the particulate pollutants ...\n",
      "Succeeded with particulate data pull for year 2012\n",
      "Attempting to pull data for 2011\n",
      "Response for the gaseous pollutants ...\n",
      "Succeeded with gaseous data pull for year 2011\n"
     ]
    },
    {
     "name": "stderr",
     "output_type": "stream",
     "text": [
      " 21%|██        | 13/63 [7:29:33<49:38:57, 3574.75s/it]"
     ]
    },
    {
     "name": "stdout",
     "output_type": "stream",
     "text": [
      "Response for the particulate pollutants ...\n",
      "Succeeded with particulate data pull for year 2011\n",
      "Attempting to pull data for 2010\n",
      "Response for the gaseous pollutants ...\n",
      "Succeeded with gaseous data pull for year 2010\n"
     ]
    },
    {
     "name": "stderr",
     "output_type": "stream",
     "text": [
      " 22%|██▏       | 14/63 [7:39:21<36:22:37, 2672.60s/it]"
     ]
    },
    {
     "name": "stdout",
     "output_type": "stream",
     "text": [
      "Response for the particulate pollutants ...\n",
      "Succeeded with particulate data pull for year 2010\n",
      "Attempting to pull data for 2009\n",
      "Response for the gaseous pollutants ...\n",
      "Succeeded with gaseous data pull for year 2009\n"
     ]
    },
    {
     "name": "stderr",
     "output_type": "stream",
     "text": [
      " 24%|██▍       | 15/63 [7:41:53<25:30:12, 1912.76s/it]"
     ]
    },
    {
     "name": "stdout",
     "output_type": "stream",
     "text": [
      "Response for the particulate pollutants ...\n",
      "Succeeded with particulate data pull for year 2009\n",
      "Attempting to pull data for 2008\n",
      "Response for the gaseous pollutants ...\n",
      "Succeeded with gaseous data pull for year 2008\n"
     ]
    },
    {
     "name": "stderr",
     "output_type": "stream",
     "text": [
      " 25%|██▌       | 16/63 [7:44:25<18:03:09, 1382.75s/it]"
     ]
    },
    {
     "name": "stdout",
     "output_type": "stream",
     "text": [
      "Response for the particulate pollutants ...\n",
      "Succeeded with particulate data pull for year 2008\n",
      "Attempting to pull data for 2007\n",
      "Response for the gaseous pollutants ...\n",
      "Succeeded with gaseous data pull for year 2007\n"
     ]
    },
    {
     "name": "stderr",
     "output_type": "stream",
     "text": [
      " 27%|██▋       | 17/63 [7:46:57<12:56:19, 1012.59s/it]"
     ]
    },
    {
     "name": "stdout",
     "output_type": "stream",
     "text": [
      "Response for the particulate pollutants ...\n",
      "Succeeded with particulate data pull for year 2007\n",
      "Attempting to pull data for 2006\n",
      "Response for the gaseous pollutants ...\n",
      "Succeeded with gaseous data pull for year 2006\n"
     ]
    },
    {
     "name": "stderr",
     "output_type": "stream",
     "text": [
      " 29%|██▊       | 18/63 [7:49:28<9:25:26, 753.91s/it]  "
     ]
    },
    {
     "name": "stdout",
     "output_type": "stream",
     "text": [
      "Response for the particulate pollutants ...\n",
      "Succeeded with particulate data pull for year 2006\n",
      "Attempting to pull data for 2005\n",
      "Response for the gaseous pollutants ...\n",
      "Succeeded with gaseous data pull for year 2005\n"
     ]
    },
    {
     "name": "stderr",
     "output_type": "stream",
     "text": [
      " 30%|███       | 19/63 [7:52:00<7:00:15, 573.07s/it]"
     ]
    },
    {
     "name": "stdout",
     "output_type": "stream",
     "text": [
      "Response for the particulate pollutants ...\n",
      "Succeeded with particulate data pull for year 2005\n",
      "Attempting to pull data for 2004\n",
      "Response for the gaseous pollutants ...\n",
      "Succeeded with gaseous data pull for year 2004\n"
     ]
    },
    {
     "name": "stderr",
     "output_type": "stream",
     "text": [
      " 32%|███▏      | 20/63 [7:54:32<5:20:03, 446.59s/it]"
     ]
    },
    {
     "name": "stdout",
     "output_type": "stream",
     "text": [
      "Response for the particulate pollutants ...\n",
      "Succeeded with particulate data pull for year 2004\n",
      "Attempting to pull data for 2003\n",
      "Response for the gaseous pollutants ...\n",
      "Succeeded with gaseous data pull for year 2003\n"
     ]
    },
    {
     "name": "stderr",
     "output_type": "stream",
     "text": [
      " 33%|███▎      | 21/63 [7:57:04<4:10:39, 358.08s/it]"
     ]
    },
    {
     "name": "stdout",
     "output_type": "stream",
     "text": [
      "Response for the particulate pollutants ...\n",
      "Succeeded with particulate data pull for year 2003\n",
      "Attempting to pull data for 2002\n",
      "Response for the gaseous pollutants ...\n",
      "Succeeded with gaseous data pull for year 2002\n"
     ]
    },
    {
     "name": "stderr",
     "output_type": "stream",
     "text": [
      " 35%|███▍      | 22/63 [7:59:36<3:22:23, 296.18s/it]"
     ]
    },
    {
     "name": "stdout",
     "output_type": "stream",
     "text": [
      "Response for the particulate pollutants ...\n",
      "Succeeded with particulate data pull for year 2002\n",
      "Attempting to pull data for 2001\n",
      "Response for the gaseous pollutants ...\n",
      "Succeeded with gaseous data pull for year 2001\n"
     ]
    },
    {
     "name": "stderr",
     "output_type": "stream",
     "text": [
      " 37%|███▋      | 23/63 [8:02:07<2:48:32, 252.80s/it]"
     ]
    },
    {
     "name": "stdout",
     "output_type": "stream",
     "text": [
      "Response for the particulate pollutants ...\n",
      "Succeeded with particulate data pull for year 2001\n",
      "Attempting to pull data for 2000\n",
      "Response for the gaseous pollutants ...\n",
      "Succeeded with gaseous data pull for year 2000\n"
     ]
    },
    {
     "name": "stderr",
     "output_type": "stream",
     "text": [
      " 38%|███▊      | 24/63 [8:04:39<2:24:37, 222.50s/it]"
     ]
    },
    {
     "name": "stdout",
     "output_type": "stream",
     "text": [
      "Response for the particulate pollutants ...\n",
      "Succeeded with particulate data pull for year 2000\n",
      "Attempting to pull data for 1999\n",
      "Response for the gaseous pollutants ...\n",
      "Succeeded with gaseous data pull for year 1999\n"
     ]
    },
    {
     "name": "stderr",
     "output_type": "stream",
     "text": [
      " 40%|███▉      | 25/63 [8:07:11<2:07:26, 201.22s/it]"
     ]
    },
    {
     "name": "stdout",
     "output_type": "stream",
     "text": [
      "Response for the particulate pollutants ...\n",
      "Succeeded with particulate data pull for year 1999\n",
      "Attempting to pull data for 1998\n",
      "Response for the gaseous pollutants ...\n",
      "Succeeded with gaseous data pull for year 1998\n"
     ]
    },
    {
     "name": "stderr",
     "output_type": "stream",
     "text": [
      " 41%|████▏     | 26/63 [8:09:42<1:54:47, 186.14s/it]"
     ]
    },
    {
     "name": "stdout",
     "output_type": "stream",
     "text": [
      "Response for the particulate pollutants ...\n",
      "Succeeded with particulate data pull for year 1998\n",
      "Attempting to pull data for 1997\n",
      "Response for the gaseous pollutants ...\n",
      "Succeeded with gaseous data pull for year 1997\n"
     ]
    },
    {
     "name": "stderr",
     "output_type": "stream",
     "text": [
      " 43%|████▎     | 27/63 [8:12:13<1:45:20, 175.58s/it]"
     ]
    },
    {
     "name": "stdout",
     "output_type": "stream",
     "text": [
      "Response for the particulate pollutants ...\n",
      "Succeeded with particulate data pull for year 1997\n",
      "Attempting to pull data for 1996\n",
      "Response for the gaseous pollutants ...\n",
      "Succeeded with gaseous data pull for year 1996\n"
     ]
    },
    {
     "name": "stderr",
     "output_type": "stream",
     "text": [
      " 44%|████▍     | 28/63 [8:14:43<1:38:06, 168.18s/it]"
     ]
    },
    {
     "name": "stdout",
     "output_type": "stream",
     "text": [
      "Response for the particulate pollutants ...\n",
      "Succeeded with particulate data pull for year 1996\n",
      "Attempting to pull data for 1995\n",
      "Response for the gaseous pollutants ...\n",
      "Succeeded with gaseous data pull for year 1995\n"
     ]
    },
    {
     "name": "stderr",
     "output_type": "stream",
     "text": [
      " 46%|████▌     | 29/63 [8:17:15<1:32:23, 163.04s/it]"
     ]
    },
    {
     "name": "stdout",
     "output_type": "stream",
     "text": [
      "Response for the particulate pollutants ...\n",
      "Succeeded with particulate data pull for year 1995\n",
      "Attempting to pull data for 1994\n",
      "Response for the gaseous pollutants ...\n",
      "Succeeded with gaseous data pull for year 1994\n"
     ]
    },
    {
     "name": "stderr",
     "output_type": "stream",
     "text": [
      " 48%|████▊     | 30/63 [8:19:45<1:27:40, 159.41s/it]"
     ]
    },
    {
     "name": "stdout",
     "output_type": "stream",
     "text": [
      "Response for the particulate pollutants ...\n",
      "Succeeded with particulate data pull for year 1994\n",
      "Attempting to pull data for 1993\n",
      "Response for the gaseous pollutants ...\n",
      "Succeeded with gaseous data pull for year 1993\n"
     ]
    },
    {
     "name": "stderr",
     "output_type": "stream",
     "text": [
      " 49%|████▉     | 31/63 [8:22:16<1:23:39, 156.87s/it]"
     ]
    },
    {
     "name": "stdout",
     "output_type": "stream",
     "text": [
      "Response for the particulate pollutants ...\n",
      "Succeeded with particulate data pull for year 1993\n",
      "Attempting to pull data for 1992\n",
      "Response for the gaseous pollutants ...\n",
      "Succeeded with gaseous data pull for year 1992\n"
     ]
    },
    {
     "name": "stderr",
     "output_type": "stream",
     "text": [
      " 51%|█████     | 32/63 [8:24:47<1:20:07, 155.09s/it]"
     ]
    },
    {
     "name": "stdout",
     "output_type": "stream",
     "text": [
      "Response for the particulate pollutants ...\n",
      "Succeeded with particulate data pull for year 1992\n",
      "Attempting to pull data for 1991\n",
      "Response for the gaseous pollutants ...\n",
      "Succeeded with gaseous data pull for year 1991\n"
     ]
    },
    {
     "name": "stderr",
     "output_type": "stream",
     "text": [
      " 52%|█████▏    | 33/63 [8:27:18<1:16:55, 153.85s/it]"
     ]
    },
    {
     "name": "stdout",
     "output_type": "stream",
     "text": [
      "Response for the particulate pollutants ...\n",
      "Succeeded with particulate data pull for year 1991\n",
      "Attempting to pull data for 1990\n",
      "Response for the gaseous pollutants ...\n",
      "Succeeded with gaseous data pull for year 1990\n"
     ]
    },
    {
     "name": "stderr",
     "output_type": "stream",
     "text": [
      " 54%|█████▍    | 34/63 [8:29:49<1:13:57, 153.00s/it]"
     ]
    },
    {
     "name": "stdout",
     "output_type": "stream",
     "text": [
      "Response for the particulate pollutants ...\n",
      "Succeeded with particulate data pull for year 1990\n",
      "Attempting to pull data for 1989\n",
      "Response for the gaseous pollutants ...\n",
      "Succeeded with gaseous data pull for year 1989\n"
     ]
    },
    {
     "name": "stderr",
     "output_type": "stream",
     "text": [
      " 56%|█████▌    | 35/63 [8:32:20<1:11:07, 152.42s/it]"
     ]
    },
    {
     "name": "stdout",
     "output_type": "stream",
     "text": [
      "Response for the particulate pollutants ...\n",
      "Succeeded with particulate data pull for year 1989\n",
      "Attempting to pull data for 1988\n",
      "Response for the gaseous pollutants ...\n",
      "Succeeded with gaseous data pull for year 1988\n"
     ]
    },
    {
     "name": "stderr",
     "output_type": "stream",
     "text": [
      " 57%|█████▋    | 36/63 [8:34:51<1:08:24, 152.01s/it]"
     ]
    },
    {
     "name": "stdout",
     "output_type": "stream",
     "text": [
      "Response for the particulate pollutants ...\n",
      "Succeeded with particulate data pull for year 1988\n",
      "Attempting to pull data for 1987\n",
      "Response for the gaseous pollutants ...\n",
      "Succeeded with gaseous data pull for year 1987\n"
     ]
    },
    {
     "name": "stderr",
     "output_type": "stream",
     "text": [
      " 59%|█████▊    | 37/63 [8:37:23<1:05:45, 151.74s/it]"
     ]
    },
    {
     "name": "stdout",
     "output_type": "stream",
     "text": [
      "Response for the particulate pollutants ...\n",
      "Succeeded with particulate data pull for year 1987\n",
      "Attempting to pull data for 1986\n",
      "Response for the gaseous pollutants ...\n",
      "Looks like the response generated no data. You might take a closer look at your request and the response data.\n"
     ]
    },
    {
     "name": "stderr",
     "output_type": "stream",
     "text": [
      " 60%|██████    | 38/63 [8:39:53<1:03:07, 151.49s/it]"
     ]
    },
    {
     "name": "stdout",
     "output_type": "stream",
     "text": [
      "Response for the particulate pollutants ...\n",
      "Looks like the response generated no data. You might take a closer look at your request and the response data.\n",
      "Attempting to pull data for 1985\n",
      "Response for the gaseous pollutants ...\n",
      "Looks like the response generated no data. You might take a closer look at your request and the response data.\n"
     ]
    },
    {
     "name": "stderr",
     "output_type": "stream",
     "text": [
      " 62%|██████▏   | 39/63 [8:42:24<1:00:32, 151.33s/it]"
     ]
    },
    {
     "name": "stdout",
     "output_type": "stream",
     "text": [
      "Response for the particulate pollutants ...\n",
      "Looks like the response generated no data. You might take a closer look at your request and the response data.\n",
      "Attempting to pull data for 1984\n",
      "Response for the gaseous pollutants ...\n",
      "Looks like the response generated no data. You might take a closer look at your request and the response data.\n"
     ]
    },
    {
     "name": "stderr",
     "output_type": "stream",
     "text": [
      " 63%|██████▎   | 40/63 [8:44:55<57:57, 151.20s/it]  "
     ]
    },
    {
     "name": "stdout",
     "output_type": "stream",
     "text": [
      "Response for the particulate pollutants ...\n",
      "Looks like the response generated no data. You might take a closer look at your request and the response data.\n",
      "Attempting to pull data for 1983\n",
      "Response for the gaseous pollutants ...\n",
      "Looks like the response generated no data. You might take a closer look at your request and the response data.\n"
     ]
    },
    {
     "name": "stderr",
     "output_type": "stream",
     "text": [
      " 65%|██████▌   | 41/63 [8:47:26<55:24, 151.13s/it]"
     ]
    },
    {
     "name": "stdout",
     "output_type": "stream",
     "text": [
      "Response for the particulate pollutants ...\n",
      "Looks like the response generated no data. You might take a closer look at your request and the response data.\n",
      "Attempting to pull data for 1982\n",
      "Response for the gaseous pollutants ...\n",
      "Looks like the response generated no data. You might take a closer look at your request and the response data.\n"
     ]
    },
    {
     "name": "stderr",
     "output_type": "stream",
     "text": [
      " 67%|██████▋   | 42/63 [8:49:57<52:53, 151.13s/it]"
     ]
    },
    {
     "name": "stdout",
     "output_type": "stream",
     "text": [
      "Response for the particulate pollutants ...\n",
      "Looks like the response generated no data. You might take a closer look at your request and the response data.\n",
      "Attempting to pull data for 1981\n",
      "Response for the gaseous pollutants ...\n",
      "Looks like the response generated no data. You might take a closer look at your request and the response data.\n"
     ]
    },
    {
     "name": "stderr",
     "output_type": "stream",
     "text": [
      " 68%|██████▊   | 43/63 [8:52:28<50:21, 151.05s/it]"
     ]
    },
    {
     "name": "stdout",
     "output_type": "stream",
     "text": [
      "Response for the particulate pollutants ...\n",
      "Looks like the response generated no data. You might take a closer look at your request and the response data.\n",
      "Attempting to pull data for 1980\n",
      "Response for the gaseous pollutants ...\n",
      "Looks like the response generated no data. You might take a closer look at your request and the response data.\n"
     ]
    },
    {
     "name": "stderr",
     "output_type": "stream",
     "text": [
      " 70%|██████▉   | 44/63 [8:54:59<47:49, 151.03s/it]"
     ]
    },
    {
     "name": "stdout",
     "output_type": "stream",
     "text": [
      "Response for the particulate pollutants ...\n",
      "Looks like the response generated no data. You might take a closer look at your request and the response data.\n",
      "Attempting to pull data for 1979\n",
      "Response for the gaseous pollutants ...\n",
      "Looks like the response generated no data. You might take a closer look at your request and the response data.\n"
     ]
    },
    {
     "name": "stderr",
     "output_type": "stream",
     "text": [
      " 71%|███████▏  | 45/63 [8:57:30<45:18, 151.02s/it]"
     ]
    },
    {
     "name": "stdout",
     "output_type": "stream",
     "text": [
      "Response for the particulate pollutants ...\n",
      "Looks like the response generated no data. You might take a closer look at your request and the response data.\n",
      "Attempting to pull data for 1978\n",
      "Response for the gaseous pollutants ...\n",
      "Looks like the response generated no data. You might take a closer look at your request and the response data.\n"
     ]
    },
    {
     "name": "stderr",
     "output_type": "stream",
     "text": [
      " 73%|███████▎  | 46/63 [9:00:01<42:46, 150.98s/it]"
     ]
    },
    {
     "name": "stdout",
     "output_type": "stream",
     "text": [
      "Response for the particulate pollutants ...\n",
      "Looks like the response generated no data. You might take a closer look at your request and the response data.\n",
      "Attempting to pull data for 1977\n",
      "Response for the gaseous pollutants ...\n",
      "Looks like the response generated no data. You might take a closer look at your request and the response data.\n"
     ]
    },
    {
     "name": "stderr",
     "output_type": "stream",
     "text": [
      " 75%|███████▍  | 47/63 [9:02:32<40:15, 150.98s/it]"
     ]
    },
    {
     "name": "stdout",
     "output_type": "stream",
     "text": [
      "Response for the particulate pollutants ...\n",
      "Looks like the response generated no data. You might take a closer look at your request and the response data.\n",
      "Attempting to pull data for 1976\n",
      "Response for the gaseous pollutants ...\n",
      "Looks like the response generated no data. You might take a closer look at your request and the response data.\n"
     ]
    },
    {
     "name": "stderr",
     "output_type": "stream",
     "text": [
      " 76%|███████▌  | 48/63 [9:05:03<37:44, 150.95s/it]"
     ]
    },
    {
     "name": "stdout",
     "output_type": "stream",
     "text": [
      "Response for the particulate pollutants ...\n",
      "Looks like the response generated no data. You might take a closer look at your request and the response data.\n",
      "Attempting to pull data for 1975\n",
      "Response for the gaseous pollutants ...\n",
      "Looks like the response generated no data. You might take a closer look at your request and the response data.\n"
     ]
    },
    {
     "name": "stderr",
     "output_type": "stream",
     "text": [
      " 78%|███████▊  | 49/63 [9:07:34<35:13, 150.96s/it]"
     ]
    },
    {
     "name": "stdout",
     "output_type": "stream",
     "text": [
      "Response for the particulate pollutants ...\n",
      "Looks like the response generated no data. You might take a closer look at your request and the response data.\n",
      "Attempting to pull data for 1974\n",
      "Response for the gaseous pollutants ...\n",
      "Looks like the response generated no data. You might take a closer look at your request and the response data.\n"
     ]
    },
    {
     "name": "stderr",
     "output_type": "stream",
     "text": [
      " 79%|███████▉  | 50/63 [9:10:05<32:42, 150.95s/it]"
     ]
    },
    {
     "name": "stdout",
     "output_type": "stream",
     "text": [
      "Response for the particulate pollutants ...\n",
      "Looks like the response generated no data. You might take a closer look at your request and the response data.\n",
      "Attempting to pull data for 1973\n",
      "Response for the gaseous pollutants ...\n",
      "Looks like the response generated no data. You might take a closer look at your request and the response data.\n"
     ]
    },
    {
     "name": "stderr",
     "output_type": "stream",
     "text": [
      " 81%|████████  | 51/63 [9:12:36<30:11, 150.94s/it]"
     ]
    },
    {
     "name": "stdout",
     "output_type": "stream",
     "text": [
      "Response for the particulate pollutants ...\n",
      "Looks like the response generated no data. You might take a closer look at your request and the response data.\n",
      "Attempting to pull data for 1972\n",
      "Response for the gaseous pollutants ...\n",
      "Looks like the response generated no data. You might take a closer look at your request and the response data.\n"
     ]
    },
    {
     "name": "stderr",
     "output_type": "stream",
     "text": [
      " 83%|████████▎ | 52/63 [9:15:07<27:40, 150.95s/it]"
     ]
    },
    {
     "name": "stdout",
     "output_type": "stream",
     "text": [
      "Response for the particulate pollutants ...\n",
      "Looks like the response generated no data. You might take a closer look at your request and the response data.\n",
      "Attempting to pull data for 1971\n",
      "Response for the gaseous pollutants ...\n",
      "Looks like the response generated no data. You might take a closer look at your request and the response data.\n"
     ]
    },
    {
     "name": "stderr",
     "output_type": "stream",
     "text": [
      " 84%|████████▍ | 53/63 [9:17:38<25:09, 150.93s/it]"
     ]
    },
    {
     "name": "stdout",
     "output_type": "stream",
     "text": [
      "Response for the particulate pollutants ...\n",
      "Looks like the response generated no data. You might take a closer look at your request and the response data.\n",
      "Attempting to pull data for 1970\n",
      "Response for the gaseous pollutants ...\n",
      "Looks like the response generated no data. You might take a closer look at your request and the response data.\n"
     ]
    },
    {
     "name": "stderr",
     "output_type": "stream",
     "text": [
      " 86%|████████▌ | 54/63 [9:20:09<22:38, 150.96s/it]"
     ]
    },
    {
     "name": "stdout",
     "output_type": "stream",
     "text": [
      "Response for the particulate pollutants ...\n",
      "Looks like the response generated no data. You might take a closer look at your request and the response data.\n",
      "Attempting to pull data for 1969\n",
      "Response for the gaseous pollutants ...\n",
      "Looks like the response generated no data. You might take a closer look at your request and the response data.\n"
     ]
    },
    {
     "name": "stderr",
     "output_type": "stream",
     "text": [
      " 87%|████████▋ | 55/63 [9:22:40<20:07, 150.95s/it]"
     ]
    },
    {
     "name": "stdout",
     "output_type": "stream",
     "text": [
      "Response for the particulate pollutants ...\n",
      "Looks like the response generated no data. You might take a closer look at your request and the response data.\n",
      "Attempting to pull data for 1968\n",
      "Response for the gaseous pollutants ...\n",
      "Looks like the response generated no data. You might take a closer look at your request and the response data.\n"
     ]
    },
    {
     "name": "stderr",
     "output_type": "stream",
     "text": [
      " 89%|████████▉ | 56/63 [9:50:42<1:11:12, 610.39s/it]"
     ]
    },
    {
     "name": "stdout",
     "output_type": "stream",
     "text": [
      "Response for the particulate pollutants ...\n",
      "Looks like the response generated no data. You might take a closer look at your request and the response data.\n",
      "Attempting to pull data for 1967\n",
      "Response for the gaseous pollutants ...\n",
      "Looks like the response generated no data. You might take a closer look at your request and the response data.\n"
     ]
    },
    {
     "name": "stderr",
     "output_type": "stream",
     "text": [
      " 90%|█████████ | 57/63 [9:53:13<47:15, 472.58s/it]  "
     ]
    },
    {
     "name": "stdout",
     "output_type": "stream",
     "text": [
      "Response for the particulate pollutants ...\n",
      "Looks like the response generated no data. You might take a closer look at your request and the response data.\n",
      "Attempting to pull data for 1966\n",
      "Response for the gaseous pollutants ...\n",
      "Looks like the response generated no data. You might take a closer look at your request and the response data.\n"
     ]
    },
    {
     "name": "stderr",
     "output_type": "stream",
     "text": [
      " 92%|█████████▏| 58/63 [9:55:44<31:20, 376.08s/it]"
     ]
    },
    {
     "name": "stdout",
     "output_type": "stream",
     "text": [
      "Response for the particulate pollutants ...\n",
      "Looks like the response generated no data. You might take a closer look at your request and the response data.\n",
      "Attempting to pull data for 1965\n",
      "Response for the gaseous pollutants ...\n",
      "Looks like the response generated no data. You might take a closer look at your request and the response data.\n"
     ]
    },
    {
     "name": "stderr",
     "output_type": "stream",
     "text": [
      " 94%|█████████▎| 59/63 [9:58:15<20:34, 308.52s/it]"
     ]
    },
    {
     "name": "stdout",
     "output_type": "stream",
     "text": [
      "Response for the particulate pollutants ...\n",
      "Looks like the response generated no data. You might take a closer look at your request and the response data.\n",
      "Attempting to pull data for 1964\n",
      "Response for the gaseous pollutants ...\n",
      "Looks like the response generated no data. You might take a closer look at your request and the response data.\n"
     ]
    },
    {
     "name": "stderr",
     "output_type": "stream",
     "text": [
      " 95%|█████████▌| 60/63 [10:00:46<13:03, 261.26s/it]"
     ]
    },
    {
     "name": "stdout",
     "output_type": "stream",
     "text": [
      "Response for the particulate pollutants ...\n",
      "Looks like the response generated no data. You might take a closer look at your request and the response data.\n",
      "Attempting to pull data for 1963\n",
      "Response for the gaseous pollutants ...\n",
      "Looks like the response generated no data. You might take a closer look at your request and the response data.\n"
     ]
    },
    {
     "name": "stderr",
     "output_type": "stream",
     "text": [
      " 97%|█████████▋| 61/63 [10:03:17<07:36, 228.16s/it]"
     ]
    },
    {
     "name": "stdout",
     "output_type": "stream",
     "text": [
      "Response for the particulate pollutants ...\n",
      "Looks like the response generated no data. You might take a closer look at your request and the response data.\n",
      "Attempting to pull data for 1962\n",
      "Response for the gaseous pollutants ...\n",
      "Looks like the response generated no data. You might take a closer look at your request and the response data.\n"
     ]
    },
    {
     "name": "stderr",
     "output_type": "stream",
     "text": [
      " 98%|█████████▊| 62/63 [10:05:48<03:25, 205.02s/it]"
     ]
    },
    {
     "name": "stdout",
     "output_type": "stream",
     "text": [
      "Response for the particulate pollutants ...\n",
      "Looks like the response generated no data. You might take a closer look at your request and the response data.\n",
      "Attempting to pull data for 1961\n",
      "Response for the gaseous pollutants ...\n",
      "Looks like the response generated no data. You might take a closer look at your request and the response data.\n"
     ]
    },
    {
     "name": "stderr",
     "output_type": "stream",
     "text": [
      "100%|██████████| 63/63 [10:08:19<00:00, 579.35s/it]"
     ]
    },
    {
     "name": "stdout",
     "output_type": "stream",
     "text": [
      "Response for the particulate pollutants ...\n",
      "Looks like the response generated no data. You might take a closer look at your request and the response data.\n"
     ]
    },
    {
     "name": "stderr",
     "output_type": "stream",
     "text": [
      "\n"
     ]
    }
   ],
   "source": [
    "request_data = AQS_REQUEST_TEMPLATE.copy()\n",
    "request_data['email'] = USERNAME\n",
    "request_data['key'] = APIKEY\n",
    "request_data['param'] = AQI_PARAMS_GASEOUS\n",
    "request_data['state'] = \"08\"\n",
    "request_data['county'] = \"101\"\n",
    "\n",
    "AQI_PARAM_CLASS = \"AQI POLLUTANTS\"\n",
    "request_data['pclass'] = AQI_PARAM_CLASS\n",
    "\n",
    "START_YEAR = 1961\n",
    "END_YEAR = 2023 # not inclusive\n",
    "\n",
    "for year in tqdm(range(END_YEAR, START_YEAR -1, -1)):\n",
    "    \n",
    "    print(f\"Attempting to pull data for {year}\")\n",
    "\n",
    "    # request daily summary data for the month of July in 2021\n",
    "    gaseous_aqi = request_daily_summary(request_template=request_data, begin_date=f\"{year}0101\", end_date=f\"{year}1231\")\n",
    "    print(\"Response for the gaseous pollutants ...\")\n",
    "    #\n",
    "    if gaseous_aqi[\"Header\"][0]['status'] == \"Success\":\n",
    "        print(f\"Succeeded with gaseous data pull for year {year}\")\n",
    "        with open(f\"../intermediate_data/gaseous_aqi_{year}.json\", \"w\") as file:\n",
    "            json.dump(gaseous_aqi,file, indent = 4)\n",
    "    elif gaseous_aqi[\"Header\"][0]['status'].startswith(\"No data \"):\n",
    "        print(\"Looks like the response generated no data. You might take a closer look at your request and the response data.\")\n",
    "    else:\n",
    "        print(f\"Warning: something unusual happen in data for {year}. Check saved json.\")\n",
    "        with open(f\"../intermediate_data/gaseous_aqi_{year}.json\", \"w\") as file:\n",
    "            json.dump(gaseous_aqi,file, indent =4)\n",
    "\n",
    "    request_data['param'] = AQI_PARAMS_PARTICULATES\n",
    "    # request daily summary data for the month of July in 2021\n",
    "    particulate_aqi = request_daily_summary(request_template=request_data, begin_date=f\"{year}0101\", end_date=f\"{year}1231\")\n",
    "    print(\"Response for the particulate pollutants ...\")\n",
    "    #\n",
    "    if particulate_aqi[\"Header\"][0]['status'] == \"Success\":\n",
    "        print(f\"Succeeded with particulate data pull for year {year}\")\n",
    "        with open(f\"../intermediate_data/particulate_aqi_{year}.json\", \"w\") as file:\n",
    "            json.dump(particulate_aqi,file, indent = 4)\n",
    "    elif particulate_aqi[\"Header\"][0]['status'].startswith(\"No data \"):\n",
    "        print(\"Looks like the response generated no data. You might take a closer look at your request and the response data.\")\n",
    "    else:\n",
    "        print(f\"Warning: something unusual happen in data for {year}. Check saved json.\")\n",
    "        with open(f\"../intermediate_data/particulate_aqi_{year}.json\", \"w\") as file:\n",
    "            json.dump(particulate_aqi,file, indent = 4)\n"
   ]
  }
 ],
 "metadata": {
  "kernelspec": {
   "display_name": "Python 3",
   "language": "python",
   "name": "python3"
  },
  "language_info": {
   "codemirror_mode": {
    "name": "ipython",
    "version": 3
   },
   "file_extension": ".py",
   "mimetype": "text/x-python",
   "name": "python",
   "nbconvert_exporter": "python",
   "pygments_lexer": "ipython3",
   "version": "3.12.7"
  }
 },
 "nbformat": 4,
 "nbformat_minor": 2
}
