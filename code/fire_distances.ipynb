{
 "cells": [
  {
   "cell_type": "markdown",
   "metadata": {},
   "source": [
    "# Wilfire Impact Estimate in Pueblo, CO\n",
    "## Notebook 1: Calculating Fire Distances"
   ]
  },
  {
   "cell_type": "markdown",
   "metadata": {},
   "source": [
    "## Initial Data Exploration and Distance Computation\n",
    "In this analysis, I will develop an estimate of smoke intensity from wildfires in Pueblo, CO. I will then assess how predictive the smoke intensity score I hypothesize is of the Air Quality Index (AQI), a metric commonly used by the US Environmental Protection Agency.\n",
    "\n",
    "To estimate smoke intensity from wildfire, I'll need as much data as possible about wildfires that occurred close to Pueblo, CO. In this notebook, I import that data and extract the distance from each wildfire in the dataset to Pueblo, CO.\n",
    "\n",
    "The data I am importing here is from the [Combined wildland fire datasets for the United States and certain territories, 1800s-Present](https://www.sciencebase.gov/catalog/item/61aa537dd34eb622f699df81) dataset, provided by the US Geographic Survey. \n",
    "\n",
    "### ATTRIBUTION\n",
    "The code and comments below are adopted, with light modifications, from Dr. David McDonald,\n",
    "who provided them for use in DATA 512, a course in the University of Washington MS of Data\n",
    "Science Program. The code is provided and utilized here under the [Creative Commons CC-BY license.](https://creativecommons.org/licenses/by/4.0/)"
   ]
  },
  {
   "cell_type": "markdown",
   "metadata": {},
   "source": [
    "## Environment Setup"
   ]
  },
  {
   "cell_type": "markdown",
   "metadata": {},
   "source": [
    "First, I import required packages do some basic environmental setup:"
   ]
  },
  {
   "cell_type": "code",
   "execution_count": 1,
   "metadata": {},
   "outputs": [],
   "source": [
    "import os\n",
    "import json\n",
    "from pyproj import Transformer, Geod\n",
    "from tqdm import tqdm\n",
    "\n",
    "PROJECT_DIR = \"/Users/daniel_personal/Documents/uw/msds_courses/data512/final_project\"\n",
    "\n",
    "os.chdir(PROJECT_DIR) # make it easier to find the .env file and the Reader object\n",
    "\n",
    "\n",
    "# Reader provided by Dr. David McDonald -- see attribution above\n",
    "from wildfire.Reader import Reader\n",
    "\n",
    "DATA_NAME = \"raw_data/USGS_Wildland_Fire_Combined_Dataset.json\"\n",
    "\n",
    "DATA_FILEPATH = os.path.join(PROJECT_DIR, DATA_NAME)\n",
    "\n",
    "wfreader = Reader(DATA_FILEPATH)"
   ]
  },
  {
   "cell_type": "markdown",
   "metadata": {},
   "source": [
    "## Dataset Import"
   ]
  },
  {
   "cell_type": "markdown",
   "metadata": {},
   "source": [
    "I begin by importing the USGS Wildfires dataset as a JSON file. This includes wildfires and prescribed burns – I filter out the latter for most of my analyses since the assignment spec indicates we are interested in *wildfires*."
   ]
  },
  {
   "cell_type": "code",
   "execution_count": 3,
   "metadata": {},
   "outputs": [
    {
     "name": "stdout",
     "output_type": "stream",
     "text": [
      "Loaded 10000 features\n",
      "Loaded 20000 features\n",
      "Loaded 30000 features\n",
      "Loaded 40000 features\n",
      "Loaded 50000 features\n",
      "Loaded 60000 features\n",
      "Loaded 70000 features\n",
      "Loaded 80000 features\n",
      "Loaded 90000 features\n",
      "Loaded 100000 features\n",
      "Loaded 110000 features\n",
      "Loaded 120000 features\n",
      "Loaded 130000 features\n",
      "Loaded a total of 135061 features\n",
      "Variable 'feature_list' contains 135061 features\n"
     ]
    }
   ],
   "source": [
    "#\n",
    "#    This sample code will load the whole sample (extracted data) file, or a small amount of the complete dataset.\n",
    "#\n",
    "MAX_FEATURE_LOAD = 1e20 # a very large number – no practical limit\n",
    "feature_list = list()\n",
    "feature_count = 0\n",
    "# A rewind() on the reader object makes sure we're at the start of the feature list\n",
    "# This way, we can execute this cell multiple times and get the same result \n",
    "wfreader.rewind()\n",
    "# Now, read through each of the features, saving them as dictionaries into a list\n",
    "feature = wfreader.next()\n",
    "while feature:\n",
    "    feature_list.append(feature)\n",
    "    feature_count += 1\n",
    "    # if we're loading a lot of features, print progress\n",
    "    if (feature_count % 10000) == 0:\n",
    "        print(f\"Loaded {feature_count} features\")\n",
    "    # loaded the max we're allowed then break\n",
    "    if feature_count >= MAX_FEATURE_LOAD:\n",
    "        break\n",
    "    feature = wfreader.next()\n",
    "#\n",
    "#    Print the number of items (features) we think we loaded\n",
    "print(f\"Loaded a total of {feature_count} features\")\n",
    "#\n",
    "#    Just a validation check - did all the items we loaded get into the list?\n",
    "print(f\"Variable 'feature_list' contains {len(feature_list)} features\")"
   ]
  },
  {
   "cell_type": "markdown",
   "metadata": {},
   "source": [
    "Now that I've imported the data into my environment, the first thing I need to do is calculate two notions of distance:\n",
    "- the distance from Pueblo, CO to the **edge** of the fire\n",
    "- the distance from Pueblo, CO to the **center** of the fire\n",
    "\n",
    "The three methods below this cell respectively:\n",
    "- ensure that the geometries in the wildfire data are expressed in terms of a consistent map projection\n",
    "- calculates the distance from Pueblo, CO to the closest point in the fire area\n",
    "- calculates the distance from Pueblo, CO to the centroid of the fire area"
   ]
  },
  {
   "cell_type": "code",
   "execution_count": 5,
   "metadata": {},
   "outputs": [],
   "source": [
    "geodcalc = Geod(ellps='WGS84')  # ensures that coordinates in this notebook are\n",
    "                                # expressed in the correct projection\n",
    "\n",
    "#    Two constants for accessing the 'latlon' array in our CITY_LOCATIONS constant dict\n",
    "LAT = 0\n",
    "LON = 1\n",
    "\n",
    "#\n",
    "#    Transform feature geometry data\n",
    "#\n",
    "#    The function takes one parameter, a list of ESRI:102008 coordinates that will be transformed to EPSG:4326\n",
    "#    The function returns a list of coordinates in EPSG:4326\n",
    "def convert_ring_to_epsg4326(ring_data=None):\n",
    "    converted_ring = list()\n",
    "    #\n",
    "    # We use a pyproj transformer that converts from ESRI:102008 to EPSG:4326 to transform the list of coordinates\n",
    "    to_epsg4326 = Transformer.from_crs(\"ESRI:102008\",\"EPSG:4326\")\n",
    "    # We'll run through the list transforming each ESRI:102008 x,y coordinate into a decimal degree lat,lon\n",
    "    for coord in ring_data:\n",
    "        try:\n",
    "            lat,lon = to_epsg4326.transform(coord[0],coord[1])\n",
    "            new_coord = lat,lon\n",
    "            converted_ring.append(new_coord)\n",
    "        # sometimes, coords in this data are not correctly formatted; instead\n",
    "        # of being [lat, lon] they are dicts like {'a': [[lat, lon], [lat, lon]]}...\n",
    "        # if this is the case; I'm skipping it. Should not materially affect\n",
    "        # the distance calculation in this use case\n",
    "        except:\n",
    "            converted_ring.append(None)\n",
    "    return converted_ring\n",
    "\n",
    "#    \n",
    "#    The function takes two parameters\n",
    "#        A place - which is coordinate point (list or tuple with two items, (lat,lon) in decimal degrees EPSG:4326\n",
    "#        Ring_data - a list of decimal degree coordinates for the fire boundary\n",
    "#\n",
    "#    The function returns a list containing the shortest distance to the perimeter and the point where that is\n",
    "#\n",
    "def shortest_distance_from_place_to_fire_perimeter(place=None,ring_data=None):\n",
    "    # convert the ring data to the right coordinate system\n",
    "    ring = convert_ring_to_epsg4326(ring_data)    \n",
    "    # create a epsg4326 compliant object - which is what the WGS84 ellipsoid is\n",
    "    geodcalc = Geod(ellps='WGS84')\n",
    "    closest_point = list()\n",
    "    # run through each point in the converted ring data\n",
    "    for point in ring:\n",
    "        # calculate the distance\n",
    "        if point is None:\n",
    "            continue\n",
    "        d = geodcalc.inv(place[1],place[0],point[1],point[0])\n",
    "        # convert the distance to miles\n",
    "        distance_in_miles = d[2]*0.00062137\n",
    "        # if it's closer to the city than the point we have, save it\n",
    "        if not closest_point:\n",
    "            closest_point.append(distance_in_miles)\n",
    "            closest_point.append(point)\n",
    "        elif closest_point and closest_point[0]>distance_in_miles:\n",
    "            closest_point = list()\n",
    "            closest_point.append(distance_in_miles)\n",
    "            closest_point.append(point)\n",
    "    return closest_point\n",
    "\n",
    "\n",
    "\n",
    "#    \n",
    "#    The function takes two parameters\n",
    "#        A place - which is coordinate point (list or tuple with two items, (lat,lon) in decimal degrees EPSG:4326\n",
    "#        Ring_data - a list of decimal degree coordinates for the fire boundary\n",
    "#\n",
    "#    The function returns the average miles from boundary to the place\n",
    "#\n",
    "def average_distance_from_place_to_fire_perimeter(place=None,ring_data=None):\n",
    "    # convert the ring data to the right coordinate system\n",
    "    ring = convert_ring_to_epsg4326(ring_data)    \n",
    "    # create a epsg4326 compliant object - which is what the WGS84 ellipsoid is\n",
    "    geodcalc = Geod(ellps='WGS84')\n",
    "    # create a list to store our results\n",
    "    distances_in_meters = list()\n",
    "    # run through each point in the converted ring data\n",
    "    for point in ring:\n",
    "        # calculate the distance\n",
    "        if point is None:\n",
    "            continue\n",
    "        d = geodcalc.inv(place[1],place[0],point[1],point[0])\n",
    "        distances_in_meters.append(d[2])\n",
    "    #print(\"Got the following list:\",distances_in_meters)\n",
    "    # convert meters to miles\n",
    "    distances_in_miles = [meters*0.00062137 for meters in distances_in_meters]\n",
    "    # the esri polygon shape (the ring) requires that the first and last coordinates be identical to 'close the region\n",
    "    # we remove one of them so that we don't bias our average by having two of the same point\n",
    "    distances_in_miles_no_dup = distances_in_miles[1:]\n",
    "    # now, average miles\n",
    "    try:\n",
    "        average = sum(distances_in_miles_no_dup)/len(distances_in_miles_no_dup)\n",
    "    except:\n",
    "        average = float('inf')\n",
    "    return average\n",
    "\n"
   ]
  },
  {
   "cell_type": "markdown",
   "metadata": {},
   "source": [
    "Now I implement the functions defined above to calculate and store the two notions of distance."
   ]
  },
  {
   "cell_type": "code",
   "execution_count": 5,
   "metadata": {},
   "outputs": [
    {
     "name": "stderr",
     "output_type": "stream",
     "text": [
      "100%|██████████| 135061/135061 [38:02<00:00, 59.17it/s]\n"
     ]
    }
   ],
   "source": [
    "# Source: https://wiki.openstreetmap.org/wiki/Pueblo,_Colorado#:~:text=Pueblo%20is%20a%20town%20in,°37′13.00″%20West.\n",
    "place = {\n",
    "    \"city\": \"Pueblo, CO\",\n",
    "    \"latlon\": [38.2706, -104.6101]   \n",
    "}\n",
    "\n",
    "# store the distances\n",
    "shortest_distances = []\n",
    "average_distances = []\n",
    "\n",
    "for wf_feature in tqdm(feature_list):\n",
    "    \n",
    "    # fires may be represented using two different kinds of geometry: ring or curve Ring\n",
    "    # check that one of these holds, otherwise raise an error\n",
    "    if 'rings' in wf_feature['geometry']:\n",
    "        ring_data = wf_feature['geometry']['rings'][0]\n",
    "    elif 'curveRings' in wf_feature['geometry']:\n",
    "        ring_data = wf_feature['geometry']['curveRings'][0]\n",
    "    else:\n",
    "        raise Exception(\"HEY! No compatible geometry in this fire data!!!\")\n",
    "    #\n",
    "    #     Compute using the shortest distance to any point on the perimeter\n",
    "    #\n",
    "    distance = shortest_distance_from_place_to_fire_perimeter(place['latlon'],ring_data)\n",
    "    shortest_distances.append(distance)\n",
    "\n",
    "    distance = average_distance_from_place_to_fire_perimeter(place['latlon'],ring_data)\n",
    "    average_distances.append(distance)"
   ]
  },
  {
   "cell_type": "markdown",
   "metadata": {},
   "source": [
    "Having computed the distances, I dump this back into the original fire wildfire data structure, then save to my [`intermediate_data`](../intermediate_data/) folder."
   ]
  },
  {
   "cell_type": "code",
   "execution_count": null,
   "metadata": {},
   "outputs": [],
   "source": [
    "for i, feature in tqdm(enumerate(feature_list)):\n",
    "    # store both distance notions for each fire in the dataset\n",
    "    feature[\"attributes\"][\"shortest_distance_to_pueblo\"] = shortest_distances[i]\n",
    "    feature[\"attributes\"][\"centroid_distance_to_pueblo\"] = average_distances[i]"
   ]
  },
  {
   "cell_type": "code",
   "execution_count": 10,
   "metadata": {},
   "outputs": [],
   "source": [
    "with open(\"./intermediate_data/fire_features_with_distances.json\", \"w\") as file:\n",
    "    json.dump(feature_list, file, indent = 4) # indent argument ensures nice formatting"
   ]
  },
  {
   "cell_type": "markdown",
   "metadata": {},
   "source": [
    "Now I've calculated the distance from Pueblo, CO to each of the wildfires in my datasets. In the other notebooks in this analysis, I will:\n",
    "- Pull Air Quality Index (AQI) data from the EPA describing how different particulate and gaseous contaminants affect air quality\n",
    "    - [`getting_aqi_data.ipynb`](getting_aqi.data.ipynb)\n",
    "- Use the distances computed here and the acreages included in this dataset to develop a custom metric of wildfire impact & compare it to AQI\n",
    "    - [`combining_distance_and_aqi.ipynb`](combining_distance_and_aqi.ipynb)"
   ]
  }
 ],
 "metadata": {
  "kernelspec": {
   "display_name": "Python 3",
   "language": "python",
   "name": "python3"
  },
  "language_info": {
   "codemirror_mode": {
    "name": "ipython",
    "version": 3
   },
   "file_extension": ".py",
   "mimetype": "text/x-python",
   "name": "python",
   "nbconvert_exporter": "python",
   "pygments_lexer": "ipython3",
   "version": "3.12.7"
  }
 },
 "nbformat": 4,
 "nbformat_minor": 2
}
