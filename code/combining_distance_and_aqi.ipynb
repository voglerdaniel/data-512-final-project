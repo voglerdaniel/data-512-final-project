{
 "cells": [
  {
   "cell_type": "code",
   "execution_count": 1,
   "metadata": {},
   "outputs": [],
   "source": [
    "import json\n",
    "import geopandas as gpd\n",
    "from tqdm import tqdm"
   ]
  },
  {
   "cell_type": "code",
   "execution_count": 2,
   "metadata": {},
   "outputs": [],
   "source": [
    "with open(\"../intermediate_data/fire_features_with_distances.json\", \"r\") as file:\n",
    "    feature_list = json.load(file)"
   ]
  },
  {
   "cell_type": "code",
   "execution_count": 6,
   "metadata": {},
   "outputs": [],
   "source": [
    "import geopandas as gpd\n",
    "from shapely.geometry import Polygon\n",
    "\n",
    "def convert_to_geodataframe(feature_list):\n",
    "    processed_features = []\n",
    "\n",
    "    for i, feature in tqdm(enumerate(feature_list)):\n",
    "        attributes = feature['attributes']\n",
    "        geometry = feature.get('geometry')\n",
    "        \n",
    "        # some geometries are not rings; this can be problematic, so \n",
    "        # I add a check and log exceptions\n",
    "        if geometry and 'rings' in geometry:\n",
    "            try:\n",
    "                polygon = Polygon(geometry['rings'][0])\n",
    "                processed_features.append({**attributes, 'geometry': polygon})\n",
    "            \n",
    "            except Exception as e:\n",
    "                print(f\"Problem with geometry for OBJECTID {attributes.get('OBJECTID')}: {e}\")\n",
    "        \n",
    "        elif geometry and 'curveRings'in geometry:\n",
    "            try:\n",
    "                polygon = Polygon(geometry['curveRings'][0])\n",
    "                processed_features.append({**attributes, 'geometry': polygon})\n",
    "            \n",
    "            except Exception as e:\n",
    "                print(f\"Problem with geometry for OBJECTID {attributes.get('OBJECTID')}: {e}\")\n",
    "        else:\n",
    "            print(f\"Skipping feature with OBJECTID {attributes.get('OBJECTID')}: No 'rings' found. Instead, got: {geometry}\\n\")\n",
    "\n",
    "    gdf = gpd.GeoDataFrame(processed_features, geometry='geometry')\n",
    "    return gdf\n"
   ]
  },
  {
   "cell_type": "code",
   "execution_count": 7,
   "metadata": {},
   "outputs": [
    {
     "name": "stderr",
     "output_type": "stream",
     "text": [
      "111947it [00:07, 13724.06it/s]"
     ]
    },
    {
     "name": "stdout",
     "output_type": "stream",
     "text": [
      "Problem with geometry for OBJECTID 109605: could not convert string to float: 'b'\n",
      "Problem with geometry for OBJECTID 110224: could not convert string to float: 'a'\n",
      "Problem with geometry for OBJECTID 110639: could not convert string to float: 'b'\n",
      "Problem with geometry for OBJECTID 111431: could not convert string to float: 'a'\n",
      "Problem with geometry for OBJECTID 111897: could not convert string to float: 'b'\n",
      "Problem with geometry for OBJECTID 112410: could not convert string to float: 'a'\n",
      "Problem with geometry for OBJECTID 112415: could not convert string to float: 'a'\n"
     ]
    },
    {
     "name": "stderr",
     "output_type": "stream",
     "text": [
      "115608it [00:07, 15884.05it/s]"
     ]
    },
    {
     "name": "stdout",
     "output_type": "stream",
     "text": [
      "Problem with geometry for OBJECTID 113411: could not convert string to float: 'a'\n",
      "Problem with geometry for OBJECTID 113665: could not convert string to float: 'a'\n",
      "Problem with geometry for OBJECTID 113738: could not convert string to float: 'a'\n",
      "Problem with geometry for OBJECTID 113766: could not convert string to float: 'a'\n",
      "Problem with geometry for OBJECTID 113805: could not convert string to float: 'a'\n",
      "Problem with geometry for OBJECTID 114309: could not convert string to float: 'a'\n",
      "Problem with geometry for OBJECTID 114322: could not convert string to float: 'a'\n",
      "Problem with geometry for OBJECTID 115629: could not convert string to float: 'a'\n",
      "Problem with geometry for OBJECTID 115974: could not convert string to float: 'a'\n",
      "Problem with geometry for OBJECTID 116235: could not convert string to float: 'c'\n"
     ]
    },
    {
     "name": "stderr",
     "output_type": "stream",
     "text": [
      "119327it [00:08, 17198.61it/s]"
     ]
    },
    {
     "name": "stdout",
     "output_type": "stream",
     "text": [
      "Problem with geometry for OBJECTID 117086: could not convert string to float: 'a'\n",
      "Problem with geometry for OBJECTID 119582: could not convert string to float: 'a'\n",
      "Problem with geometry for OBJECTID 119617: could not convert string to float: 'a'\n",
      "Problem with geometry for OBJECTID 119751: could not convert string to float: 'a'\n",
      "Problem with geometry for OBJECTID 119982: could not convert string to float: 'a'\n",
      "Problem with geometry for OBJECTID 120212: could not convert string to float: 'a'\n",
      "Problem with geometry for OBJECTID 120678: could not convert string to float: 'a'\n"
     ]
    },
    {
     "name": "stderr",
     "output_type": "stream",
     "text": [
      "122944it [00:08, 17644.55it/s]"
     ]
    },
    {
     "name": "stdout",
     "output_type": "stream",
     "text": [
      "Problem with geometry for OBJECTID 121010: could not convert string to float: 'a'\n",
      "Problem with geometry for OBJECTID 122264: could not convert string to float: 'a'\n"
     ]
    },
    {
     "name": "stderr",
     "output_type": "stream",
     "text": [
      "129169it [00:08, 19495.59it/s]"
     ]
    },
    {
     "name": "stdout",
     "output_type": "stream",
     "text": [
      "Problem with geometry for OBJECTID 125745: could not convert string to float: 'a'\n",
      "Problem with geometry for OBJECTID 127492: could not convert string to float: 'a'\n"
     ]
    },
    {
     "name": "stderr",
     "output_type": "stream",
     "text": [
      "135061it [00:08, 15496.33it/s]\n"
     ]
    }
   ],
   "source": [
    "gdf = convert_to_geodataframe(feature_list)"
   ]
  }
 ],
 "metadata": {
  "kernelspec": {
   "display_name": "Python 3",
   "language": "python",
   "name": "python3"
  },
  "language_info": {
   "codemirror_mode": {
    "name": "ipython",
    "version": 3
   },
   "file_extension": ".py",
   "mimetype": "text/x-python",
   "name": "python",
   "nbconvert_exporter": "python",
   "pygments_lexer": "ipython3",
   "version": "3.12.7"
  }
 },
 "nbformat": 4,
 "nbformat_minor": 2
}
